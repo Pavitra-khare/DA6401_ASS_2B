{
  "metadata": {
    "kernelspec": {
      "language": "python",
      "display_name": "Python 3",
      "name": "python3"
    },
    "language_info": {
      "name": "python",
      "version": "3.11.11",
      "mimetype": "text/x-python",
      "codemirror_mode": {
        "name": "ipython",
        "version": 3
      },
      "pygments_lexer": "ipython3",
      "nbconvert_exporter": "python",
      "file_extension": ".py"
    },
    "kaggle": {
      "accelerator": "gpu",
      "dataSources": [
        {
          "sourceId": 11368356,
          "sourceType": "datasetVersion",
          "datasetId": 7116343
        }
      ],
      "dockerImageVersionId": 31011,
      "isInternetEnabled": true,
      "language": "python",
      "sourceType": "notebook",
      "isGpuEnabled": true
    },
    "colab": {
      "provenance": [],
      "include_colab_link": true
    }
  },
  "nbformat_minor": 0,
  "nbformat": 4,
  "cells": [
    {
      "cell_type": "markdown",
      "metadata": {
        "id": "view-in-github",
        "colab_type": "text"
      },
      "source": [
        "<a href=\"https://colab.research.google.com/github/Pavitra-khare/DA6401_ASS_2B/blob/main/DL_ASS_2B.ipynb\" target=\"_parent\"><img src=\"https://colab.research.google.com/assets/colab-badge.svg\" alt=\"Open In Colab\"/></a>"
      ]
    },
    {
      "cell_type": "code",
      "source": [
        "!pip install wandb"
      ],
      "metadata": {
        "trusted": true,
        "execution": {
          "iopub.status.busy": "2025-04-17T09:11:56.734284Z",
          "iopub.execute_input": "2025-04-17T09:11:56.734534Z",
          "iopub.status.idle": "2025-04-17T09:12:00.556321Z",
          "shell.execute_reply.started": "2025-04-17T09:11:56.734513Z",
          "shell.execute_reply": "2025-04-17T09:12:00.555646Z"
        },
        "id": "1Fv5xOPt_yAY",
        "outputId": "f15ccde6-940e-410d-8918-8d8ca3552817"
      },
      "outputs": [
        {
          "name": "stdout",
          "text": "Requirement already satisfied: wandb in /usr/local/lib/python3.11/dist-packages (0.19.6)\nRequirement already satisfied: click!=8.0.0,>=7.1 in /usr/local/lib/python3.11/dist-packages (from wandb) (8.1.8)\nRequirement already satisfied: docker-pycreds>=0.4.0 in /usr/local/lib/python3.11/dist-packages (from wandb) (0.4.0)\nRequirement already satisfied: gitpython!=3.1.29,>=1.0.0 in /usr/local/lib/python3.11/dist-packages (from wandb) (3.1.44)\nRequirement already satisfied: platformdirs in /usr/local/lib/python3.11/dist-packages (from wandb) (4.3.7)\nRequirement already satisfied: protobuf!=4.21.0,!=5.28.0,<6,>=3.19.0 in /usr/local/lib/python3.11/dist-packages (from wandb) (3.20.3)\nRequirement already satisfied: psutil>=5.0.0 in /usr/local/lib/python3.11/dist-packages (from wandb) (7.0.0)\nRequirement already satisfied: pydantic<3,>=2.6 in /usr/local/lib/python3.11/dist-packages (from wandb) (2.11.3)\nRequirement already satisfied: pyyaml in /usr/local/lib/python3.11/dist-packages (from wandb) (6.0.2)\nRequirement already satisfied: requests<3,>=2.0.0 in /usr/local/lib/python3.11/dist-packages (from wandb) (2.32.3)\nRequirement already satisfied: sentry-sdk>=2.0.0 in /usr/local/lib/python3.11/dist-packages (from wandb) (2.21.0)\nRequirement already satisfied: setproctitle in /usr/local/lib/python3.11/dist-packages (from wandb) (1.3.4)\nRequirement already satisfied: setuptools in /usr/local/lib/python3.11/dist-packages (from wandb) (75.1.0)\nRequirement already satisfied: typing-extensions<5,>=4.4 in /usr/local/lib/python3.11/dist-packages (from wandb) (4.13.1)\nRequirement already satisfied: six>=1.4.0 in /usr/local/lib/python3.11/dist-packages (from docker-pycreds>=0.4.0->wandb) (1.17.0)\nRequirement already satisfied: gitdb<5,>=4.0.1 in /usr/local/lib/python3.11/dist-packages (from gitpython!=3.1.29,>=1.0.0->wandb) (4.0.12)\nRequirement already satisfied: annotated-types>=0.6.0 in /usr/local/lib/python3.11/dist-packages (from pydantic<3,>=2.6->wandb) (0.7.0)\nRequirement already satisfied: pydantic-core==2.33.1 in /usr/local/lib/python3.11/dist-packages (from pydantic<3,>=2.6->wandb) (2.33.1)\nRequirement already satisfied: typing-inspection>=0.4.0 in /usr/local/lib/python3.11/dist-packages (from pydantic<3,>=2.6->wandb) (0.4.0)\nRequirement already satisfied: charset-normalizer<4,>=2 in /usr/local/lib/python3.11/dist-packages (from requests<3,>=2.0.0->wandb) (3.4.1)\nRequirement already satisfied: idna<4,>=2.5 in /usr/local/lib/python3.11/dist-packages (from requests<3,>=2.0.0->wandb) (3.10)\nRequirement already satisfied: urllib3<3,>=1.21.1 in /usr/local/lib/python3.11/dist-packages (from requests<3,>=2.0.0->wandb) (2.3.0)\nRequirement already satisfied: certifi>=2017.4.17 in /usr/local/lib/python3.11/dist-packages (from requests<3,>=2.0.0->wandb) (2025.1.31)\nRequirement already satisfied: smmap<6,>=3.0.1 in /usr/local/lib/python3.11/dist-packages (from gitdb<5,>=4.0.1->gitpython!=3.1.29,>=1.0.0->wandb) (5.0.2)\n",
          "output_type": "stream"
        }
      ],
      "execution_count": null
    },
    {
      "cell_type": "code",
      "source": [
        "# import wandb\n",
        "# wandb.login(key='c118c1c1779ae69dc5db59f0ff99465d34292bfe')\n",
        "!wandb login"
      ],
      "metadata": {
        "trusted": true,
        "execution": {
          "iopub.status.busy": "2025-04-17T12:58:34.753142Z",
          "iopub.execute_input": "2025-04-17T12:58:34.753315Z",
          "iopub.status.idle": "2025-04-17T12:58:43.550237Z",
          "shell.execute_reply.started": "2025-04-17T12:58:34.753299Z",
          "shell.execute_reply": "2025-04-17T12:58:43.5495Z"
        },
        "id": "6m-5Q9dj_yAY",
        "outputId": "698a5294-0989-4305-f977-e534369afbfe"
      },
      "outputs": [
        {
          "name": "stderr",
          "text": "\u001b[34m\u001b[1mwandb\u001b[0m: \u001b[33mWARNING\u001b[0m If you're specifying your api key in code, ensure this code is not shared publicly.\n\u001b[34m\u001b[1mwandb\u001b[0m: \u001b[33mWARNING\u001b[0m Consider setting the WANDB_API_KEY environment variable, or running `wandb login` from the command line.\n\u001b[34m\u001b[1mwandb\u001b[0m: Appending key for api.wandb.ai to your netrc file: /root/.netrc\n\u001b[34m\u001b[1mwandb\u001b[0m: Currently logged in as: \u001b[33m3628-pavitrakhare\u001b[0m (\u001b[33m3628-pavitrakhare-indian-institute-of-technology-madras\u001b[0m) to \u001b[32mhttps://api.wandb.ai\u001b[0m. Use \u001b[1m`wandb login --relogin`\u001b[0m to force relogin\n",
          "output_type": "stream"
        },
        {
          "execution_count": 1,
          "output_type": "execute_result",
          "data": {
            "text/plain": "True"
          },
          "metadata": {}
        }
      ],
      "execution_count": null
    },
    {
      "cell_type": "code",
      "source": [
        "import torch\n",
        "import torch.nn as nn\n",
        "import torch.optim as optim\n",
        "from torchvision.datasets import ImageFolder\n",
        "from torchvision.transforms import transforms\n",
        "from torch.utils.data import DataLoader, SubsetRandomSampler\n",
        "from sklearn.model_selection import train_test_split\n",
        "from torchvision import models\n",
        "import wandb\n",
        "\n",
        "# Check if CUDA is available\n",
        "device = torch.device('cuda' if torch.cuda.is_available() else 'cpu')"
      ],
      "metadata": {
        "trusted": true,
        "execution": {
          "iopub.status.busy": "2025-04-17T12:58:46.305068Z",
          "iopub.execute_input": "2025-04-17T12:58:46.305858Z",
          "iopub.status.idle": "2025-04-17T12:58:54.261543Z",
          "shell.execute_reply.started": "2025-04-17T12:58:46.30582Z",
          "shell.execute_reply": "2025-04-17T12:58:54.260957Z"
        },
        "id": "xx9k4akl_yAZ"
      },
      "outputs": [],
      "execution_count": null
    },
    {
      "cell_type": "code",
      "source": [
        "from torchvision.models import resnet50, ResNet50_Weights\n",
        "\n",
        "def pretrain_model(model_name, strategy):\n",
        "    \"\"\"\n",
        "    Initialize a model with different pretrained layer freezing strategies:\n",
        "    - strategy='freeze_all_except_last': Only the final FC layer is trainable\n",
        "    - strategy='freeze_80_percent': Freeze 80% of the initial layers\n",
        "    - strategy='freeze_fc_only': Only freeze the FC layer\n",
        "    - strategy='train_from_scratch': Use untrained weights\n",
        "    \"\"\"\n",
        "    def load_model(name, use_pretrained):\n",
        "        if name == 'resnet':\n",
        "            model_weights = ResNet50_Weights.DEFAULT if use_pretrained else None\n",
        "            return resnet50(weights=model_weights)\n",
        "        else:\n",
        "            raise ValueError(f\"Unsupported model: {name}\")\n",
        "\n",
        "    # Decide on using pretrained weights\n",
        "    use_pretrained = (strategy != 'train_from_scratch')\n",
        "    pretrained_model = load_model(model_name, use_pretrained)\n",
        "\n",
        "    # Update the output layer for 10 classes\n",
        "    num_features = pretrained_model.fc.in_features\n",
        "    pretrained_model.fc = nn.Linear(num_features, 10)\n",
        "\n",
        "    # Freezing strategies\n",
        "    def freeze_except_fc(model):\n",
        "        for name, param in model.named_parameters():\n",
        "            if not name.startswith(\"fc\"):\n",
        "                param.requires_grad = False\n",
        "\n",
        "    def freeze_fc_layer(model):\n",
        "        for name, param in model.named_parameters():\n",
        "            if name.startswith(\"fc\"):\n",
        "                param.requires_grad = False\n",
        "\n",
        "    def freeze_initial_80_percent(model):\n",
        "        children = list(model.named_children())\n",
        "        freeze_upto = int(len(children) * 0.8)\n",
        "        for idx, (_, module) in enumerate(children):\n",
        "            if idx < freeze_upto:\n",
        "                for param in module.parameters():\n",
        "                    param.requires_grad = False\n",
        "\n",
        "    if strategy == 'freeze_all_except_last':\n",
        "        freeze_except_fc(pretrained_model)\n",
        "    elif strategy == 'freeze_80_percent':\n",
        "        freeze_initial_80_percent(pretrained_model)\n",
        "    elif strategy == 'freeze_fc_only':\n",
        "        freeze_fc_layer(pretrained_model)\n",
        "    # No action for 'train_from_scratch' since all layers are already trainable\n",
        "\n",
        "    return pretrained_model\n"
      ],
      "metadata": {
        "_uuid": "8f2839f25d086af736a60e9eeb907d3b93b6e0e5",
        "_cell_guid": "b1076dfc-b9ad-4769-8c92-a6c4dae69d19",
        "trusted": true,
        "execution": {
          "iopub.status.busy": "2025-04-17T12:58:55.78686Z",
          "iopub.execute_input": "2025-04-17T12:58:55.787667Z",
          "iopub.status.idle": "2025-04-17T12:58:55.795216Z",
          "shell.execute_reply.started": "2025-04-17T12:58:55.787644Z",
          "shell.execute_reply": "2025-04-17T12:58:55.794325Z"
        },
        "id": "_Cwt__5-_yAZ"
      },
      "outputs": [],
      "execution_count": null
    },
    {
      "cell_type": "code",
      "source": [
        "def data_load(data_dir, data_augumentation):\n",
        "    \"\"\"\n",
        "    Load training and validation data from a directory with optional augmentation.\n",
        "    Splits data into 80% training and 20% validation.\n",
        "    \"\"\"\n",
        "\n",
        "    def get_transform(augment):\n",
        "        if augment == 'Yes':\n",
        "            return transforms.Compose([\n",
        "                transforms.RandomResizedCrop(224),\n",
        "                transforms.RandomHorizontalFlip(),\n",
        "                transforms.ColorJitter(0.2, 0.2, 0.2, 0.1),\n",
        "                transforms.RandomRotation(degrees=20),\n",
        "                transforms.ToTensor(),\n",
        "                transforms.Normalize(mean=[0.5]*3, std=[0.5]*3)\n",
        "            ])\n",
        "        return transforms.Compose([\n",
        "            transforms.Resize((224, 224)),\n",
        "            transforms.ToTensor(),\n",
        "            transforms.Normalize(mean=[0.5]*3, std=[0.5]*3)\n",
        "        ])\n",
        "\n",
        "    # Apply transformations\n",
        "    transform_pipeline = get_transform(data_augumentation)\n",
        "\n",
        "    # Prepare dataset and split\n",
        "    complete_dataset = ImageFolder(root=data_dir, transform=transform_pipeline)\n",
        "    dataset_size = len(complete_dataset)\n",
        "    indices = list(range(dataset_size))\n",
        "    train_indices, val_indices = train_test_split(indices, test_size=0.2, random_state=42)\n",
        "\n",
        "    # Data samplers for randomized loading\n",
        "    train_sampler = SubsetRandomSampler(train_indices)\n",
        "    val_sampler = SubsetRandomSampler(val_indices)\n",
        "\n",
        "    # Initialize DataLoaders\n",
        "    train_loader = DataLoader(\n",
        "        complete_dataset,\n",
        "        batch_size=32,\n",
        "        sampler=train_sampler,\n",
        "        num_workers=4,\n",
        "        pin_memory=True\n",
        "    )\n",
        "\n",
        "    val_loader = DataLoader(\n",
        "        complete_dataset,\n",
        "        batch_size=32,\n",
        "        sampler=val_sampler,\n",
        "        num_workers=4,\n",
        "        pin_memory=True\n",
        "    )\n",
        "\n",
        "    return train_loader, val_loader\n"
      ],
      "metadata": {
        "trusted": true,
        "execution": {
          "iopub.status.busy": "2025-04-17T12:58:57.695567Z",
          "iopub.execute_input": "2025-04-17T12:58:57.695937Z",
          "iopub.status.idle": "2025-04-17T12:58:57.702839Z",
          "shell.execute_reply.started": "2025-04-17T12:58:57.695916Z",
          "shell.execute_reply": "2025-04-17T12:58:57.702088Z"
        },
        "id": "SxPZEfZB_yAZ"
      },
      "outputs": [],
      "execution_count": null
    },
    {
      "cell_type": "code",
      "source": [
        "def train_on_train_data(model, train_data):\n",
        "    \"\"\"\n",
        "    Trains the model on the provided training data for one epoch.\n",
        "    Returns average loss and training accuracy.\n",
        "    \"\"\"\n",
        "    loss_fn = nn.CrossEntropyLoss()\n",
        "    optimizer = optim.Adam(model.parameters(), lr=0.001)\n",
        "    model.train()\n",
        "\n",
        "    total_loss = 0.0\n",
        "    correct_preds = 0\n",
        "    total_samples = 0\n",
        "\n",
        "    for batch_inputs, batch_labels in train_data:\n",
        "        batch_inputs, batch_labels = batch_inputs.to(device), batch_labels.to(device)\n",
        "\n",
        "        optimizer.zero_grad()\n",
        "        logits = model(batch_inputs)\n",
        "        loss = loss_fn(logits, batch_labels)\n",
        "        loss.backward()\n",
        "        optimizer.step()\n",
        "\n",
        "        total_loss += loss.item()\n",
        "        predictions = torch.argmax(logits, dim=1)\n",
        "        correct_preds += (predictions == batch_labels).sum().item()\n",
        "        total_samples += batch_labels.size(0)\n",
        "\n",
        "    epoch_loss = total_loss / len(train_data)\n",
        "    accuracy = (correct_preds / total_samples) * 100\n",
        "\n",
        "    return epoch_loss, accuracy\n"
      ],
      "metadata": {
        "trusted": true,
        "execution": {
          "iopub.status.busy": "2025-04-17T12:58:57.941311Z",
          "iopub.execute_input": "2025-04-17T12:58:57.941598Z",
          "iopub.status.idle": "2025-04-17T12:58:57.946902Z",
          "shell.execute_reply.started": "2025-04-17T12:58:57.941576Z",
          "shell.execute_reply": "2025-04-17T12:58:57.946246Z"
        },
        "id": "rfLhV6vb_yAa"
      },
      "outputs": [],
      "execution_count": null
    },
    {
      "cell_type": "code",
      "source": [
        "def test_on_valid_data(model, test_data):\n",
        "    \"\"\"\n",
        "    Evaluates the model on the provided validation/test dataset.\n",
        "    Returns the accuracy percentage.\n",
        "    \"\"\"\n",
        "    model.eval()\n",
        "    total_correct = 0\n",
        "    total_samples = 0\n",
        "\n",
        "    with torch.no_grad():\n",
        "        for batch_x, batch_y in test_data:\n",
        "            batch_x, batch_y = batch_x.to(device), batch_y.to(device)\n",
        "            predictions = model(batch_x)\n",
        "            predicted_labels = torch.argmax(predictions, dim=1)\n",
        "            total_correct += (predicted_labels == batch_y).sum().item()\n",
        "            total_samples += batch_y.size(0)\n",
        "\n",
        "    accuracy_percent = (total_correct / total_samples) * 100\n",
        "    return accuracy_percent\n"
      ],
      "metadata": {
        "trusted": true,
        "execution": {
          "iopub.status.busy": "2025-04-17T12:58:58.110325Z",
          "iopub.execute_input": "2025-04-17T12:58:58.110597Z",
          "iopub.status.idle": "2025-04-17T12:58:58.115728Z",
          "shell.execute_reply.started": "2025-04-17T12:58:58.110575Z",
          "shell.execute_reply": "2025-04-17T12:58:58.115002Z"
        },
        "id": "ftrXmNYG_yAa"
      },
      "outputs": [],
      "execution_count": null
    },
    {
      "cell_type": "code",
      "source": [
        "def test_data_load(test_dir, data_augumentation='No'):\n",
        "    \"\"\"\n",
        "    Loads the test dataset with optional augmentation and returns a DataLoader.\n",
        "    \"\"\"\n",
        "    # Choose transformation pipeline based on augmentation flag\n",
        "    if data_augumentation == 'Yes':\n",
        "        augmentation_pipeline = transforms.Compose([\n",
        "            transforms.RandomResizedCrop(224),\n",
        "            transforms.RandomHorizontalFlip(),\n",
        "            transforms.ColorJitter(brightness=0.2, contrast=0.2, saturation=0.2, hue=0.1),\n",
        "            transforms.RandomRotation(20),\n",
        "            transforms.ToTensor(),\n",
        "            transforms.Normalize(mean=(0.5, 0.5, 0.5), std=(0.5, 0.5, 0.5))\n",
        "        ])\n",
        "    else:\n",
        "        augmentation_pipeline = transforms.Compose([\n",
        "            transforms.Resize((224, 224)),\n",
        "            transforms.ToTensor(),\n",
        "            transforms.Normalize(mean=(0.5, 0.5, 0.5), std=(0.5, 0.5, 0.5))\n",
        "        ])\n",
        "\n",
        "    # Apply transformations and load dataset\n",
        "    dataset = ImageFolder(root=test_dir, transform=augmentation_pipeline)\n",
        "    loader = DataLoader(\n",
        "        dataset,\n",
        "        batch_size=32,\n",
        "        shuffle=False,\n",
        "        num_workers=4,\n",
        "        pin_memory=True\n",
        "    )\n",
        "    return loader\n"
      ],
      "metadata": {
        "trusted": true,
        "execution": {
          "iopub.status.busy": "2025-04-17T12:59:00.343342Z",
          "iopub.execute_input": "2025-04-17T12:59:00.344001Z",
          "iopub.status.idle": "2025-04-17T12:59:00.349187Z",
          "shell.execute_reply.started": "2025-04-17T12:59:00.343974Z",
          "shell.execute_reply": "2025-04-17T12:59:00.348477Z"
        },
        "id": "8TRG2u4r_yAa"
      },
      "outputs": [],
      "execution_count": null
    },
    {
      "cell_type": "code",
      "source": [
        "def model_train(model, train_data, val_data, test_data, epochs):\n",
        "    loss_function = nn.CrossEntropyLoss()\n",
        "    optimizer = optim.Adam(model.parameters(), lr=0.001)\n",
        "\n",
        "    best_val_acc = 0\n",
        "    patience = 2\n",
        "    wait = 0\n",
        "    best_model_state = None\n",
        "\n",
        "    for epoch in range(epochs):\n",
        "        train_loss, train_accuracy = train_on_train_data(model, train_data)\n",
        "\n",
        "        print(f'Epoch {epoch + 1}/{epochs} | Training Loss: {train_loss:.4f} | Training Accuracy: {train_accuracy:.2f}%')\n",
        "        wandb.log({'Train loss': train_loss, 'Train accuracy': train_accuracy})\n",
        "\n",
        "        val_accuracy = test_on_valid_data(model, val_data)\n",
        "        print(f'Epoch {epoch + 1}/{epochs} | Validation Accuracy: {val_accuracy:.2f}%')\n",
        "        wandb.log({'val_accuracy': val_accuracy, 'epoch': epoch})\n",
        "\n",
        "        if val_accuracy > best_val_acc:\n",
        "            best_val_acc = val_accuracy\n",
        "            wait = 0\n",
        "            best_model_state = model.state_dict()  # Save best model state\n",
        "        else:\n",
        "            wait += 1\n",
        "            if wait >= patience:\n",
        "                print(f\"Early stopping at epoch {epoch + 1}\")\n",
        "                break\n",
        "\n",
        "    # Restore best model before testing\n",
        "    if best_model_state:\n",
        "        model.load_state_dict(best_model_state)\n",
        "\n",
        "    # Final evaluation on test set\n",
        "    test_accuracy = test_on_valid_data(model, test_data)\n",
        "    print(f'Test Accuracy: {test_accuracy:.2f}%')\n",
        "    wandb.log({'test_accuracy': test_accuracy})\n",
        "\n",
        "    print('Model training Completed.')\n",
        "    return model\n"
      ],
      "metadata": {
        "trusted": true,
        "execution": {
          "iopub.status.busy": "2025-04-17T12:59:02.056293Z",
          "iopub.execute_input": "2025-04-17T12:59:02.056778Z",
          "iopub.status.idle": "2025-04-17T12:59:02.062672Z",
          "shell.execute_reply.started": "2025-04-17T12:59:02.056723Z",
          "shell.execute_reply": "2025-04-17T12:59:02.061937Z"
        },
        "id": "Esq7x-L2_yAb"
      },
      "outputs": [],
      "execution_count": null
    },
    {
      "cell_type": "code",
      "source": [
        "# Update the sweep configuration to include the strategies\n",
        "sweep_config = {\n",
        "    'method': 'grid',  # Changed to grid to ensure all strategies are tested\n",
        "    'metric': {\n",
        "        'name': 'val_accuracy',\n",
        "        'goal': 'maximize'\n",
        "    },\n",
        "    'parameters': {\n",
        "        'model': {\n",
        "            'values': ['resnet']\n",
        "        },\n",
        "        'strategy': {\n",
        "            'values': [\n",
        "                'freeze_all_except_last',  # Strategy 1\n",
        "                'freeze_fc_only',          # Strategy 3\n",
        "                'freeze_80_percent',       # Strategy 2\n",
        "                'train_from_scratch'       # Strategy 4\n",
        "            ]\n",
        "        },\n",
        "        'epoch': {\n",
        "            'values': [10]\n",
        "        }\n",
        "\n",
        "\n",
        "    }\n",
        "}\n",
        "\n",
        "sweep_id = wandb.sweep(sweep_config, project='DL_ASS2_Prac')"
      ],
      "metadata": {
        "trusted": true,
        "execution": {
          "iopub.status.busy": "2025-04-17T12:59:07.388936Z",
          "iopub.execute_input": "2025-04-17T12:59:07.389221Z",
          "iopub.status.idle": "2025-04-17T12:59:07.842868Z",
          "shell.execute_reply.started": "2025-04-17T12:59:07.3892Z",
          "shell.execute_reply": "2025-04-17T12:59:07.842118Z"
        },
        "id": "i1FfZf4m_yAb",
        "outputId": "6e81aac2-4220-481b-98c4-5393ef0f76e1"
      },
      "outputs": [
        {
          "name": "stdout",
          "text": "Create sweep with ID: 5lto2ws8\nSweep URL: https://wandb.ai/3628-pavitrakhare-indian-institute-of-technology-madras/DL_ASS2_Prac/sweeps/5lto2ws8\n",
          "output_type": "stream"
        }
      ],
      "execution_count": null
    },
    {
      "cell_type": "code",
      "source": [
        "def main():\n",
        "    with wandb.init() as run:\n",
        "        # Dynamically create a run name based on current configuration\n",
        "        config = wandb.config\n",
        "        run_name_parts = [\n",
        "            f\"ep{config.epoch}\",\n",
        "            f\"strategy-{config.strategy}\",\n",
        "            f\"model-{config.model}\"\n",
        "        ]\n",
        "        wandb.run.name = \"_\".join(run_name_parts)\n",
        "\n",
        "        # Set up the model with the specified training strategy\n",
        "        selected_model = pretrain_model(model_name=config.model, strategy=config.strategy)\n",
        "        selected_model = selected_model.to(device)\n",
        "\n",
        "        # Prepare training and validation datasets\n",
        "        training_path = '/kaggle/input/my-dataset/inaturalist_12K/train'\n",
        "        train_data, val_data = data_load(training_path, data_augumentation='No')\n",
        "\n",
        "        # Prepare test dataset\n",
        "        testing_path = '/kaggle/input/my-dataset/inaturalist_12K/val'\n",
        "        test_data = test_data_load(testing_path, data_augumentation='No')\n",
        "\n",
        "        # Begin training and evaluate on test data\n",
        "        model_train(selected_model, train_data, val_data, test_data, epochs=config.epoch)\n",
        "\n",
        "wandb.agent(sweep_id, function=main, count=4)  # Execute with all 4 strategies\n",
        "wandb.finish()\n"
      ],
      "metadata": {
        "trusted": true,
        "execution": {
          "iopub.status.busy": "2025-04-17T12:59:09.768874Z",
          "iopub.execute_input": "2025-04-17T12:59:09.769149Z",
          "iopub.status.idle": "2025-04-17T13:25:16.097809Z",
          "shell.execute_reply.started": "2025-04-17T12:59:09.769129Z",
          "shell.execute_reply": "2025-04-17T13:25:16.097159Z"
        },
        "id": "_wENm3Xu_yAb",
        "outputId": "2293ba4b-cd38-4e24-ae1d-fb3d471b9111"
      },
      "outputs": [
        {
          "name": "stderr",
          "text": "\u001b[34m\u001b[1mwandb\u001b[0m: Agent Starting Run: goa87lu1 with config:\n\u001b[34m\u001b[1mwandb\u001b[0m: \tepoch: 10\n\u001b[34m\u001b[1mwandb\u001b[0m: \tmodel: resnet\n\u001b[34m\u001b[1mwandb\u001b[0m: \tstrategy: freeze_all_except_last\n\u001b[34m\u001b[1mwandb\u001b[0m: Using wandb-core as the SDK backend.  Please refer to https://wandb.me/wandb-core for more information.\n",
          "output_type": "stream"
        },
        {
          "output_type": "display_data",
          "data": {
            "text/plain": "<IPython.core.display.HTML object>",
            "text/html": "Tracking run with wandb version 0.19.6"
          },
          "metadata": {}
        },
        {
          "output_type": "display_data",
          "data": {
            "text/plain": "<IPython.core.display.HTML object>",
            "text/html": "Run data is saved locally in <code>/kaggle/working/wandb/run-20250417_125916-goa87lu1</code>"
          },
          "metadata": {}
        },
        {
          "output_type": "display_data",
          "data": {
            "text/plain": "<IPython.core.display.HTML object>",
            "text/html": "Syncing run <strong><a href='https://wandb.ai/3628-pavitrakhare-indian-institute-of-technology-madras/DL_ASS2_Prac/runs/goa87lu1' target=\"_blank\">efficient-sweep-1</a></strong> to <a href='https://wandb.ai/3628-pavitrakhare-indian-institute-of-technology-madras/DL_ASS2_Prac' target=\"_blank\">Weights & Biases</a> (<a href='https://wandb.me/developer-guide' target=\"_blank\">docs</a>)<br>Sweep page: <a href='https://wandb.ai/3628-pavitrakhare-indian-institute-of-technology-madras/DL_ASS2_Prac/sweeps/5lto2ws8' target=\"_blank\">https://wandb.ai/3628-pavitrakhare-indian-institute-of-technology-madras/DL_ASS2_Prac/sweeps/5lto2ws8</a>"
          },
          "metadata": {}
        },
        {
          "output_type": "display_data",
          "data": {
            "text/plain": "<IPython.core.display.HTML object>",
            "text/html": " View project at <a href='https://wandb.ai/3628-pavitrakhare-indian-institute-of-technology-madras/DL_ASS2_Prac' target=\"_blank\">https://wandb.ai/3628-pavitrakhare-indian-institute-of-technology-madras/DL_ASS2_Prac</a>"
          },
          "metadata": {}
        },
        {
          "output_type": "display_data",
          "data": {
            "text/plain": "<IPython.core.display.HTML object>",
            "text/html": " View sweep at <a href='https://wandb.ai/3628-pavitrakhare-indian-institute-of-technology-madras/DL_ASS2_Prac/sweeps/5lto2ws8' target=\"_blank\">https://wandb.ai/3628-pavitrakhare-indian-institute-of-technology-madras/DL_ASS2_Prac/sweeps/5lto2ws8</a>"
          },
          "metadata": {}
        },
        {
          "output_type": "display_data",
          "data": {
            "text/plain": "<IPython.core.display.HTML object>",
            "text/html": " View run at <a href='https://wandb.ai/3628-pavitrakhare-indian-institute-of-technology-madras/DL_ASS2_Prac/runs/goa87lu1' target=\"_blank\">https://wandb.ai/3628-pavitrakhare-indian-institute-of-technology-madras/DL_ASS2_Prac/runs/goa87lu1</a>"
          },
          "metadata": {}
        },
        {
          "name": "stderr",
          "text": "Downloading: \"https://download.pytorch.org/models/resnet50-11ad3fa6.pth\" to /root/.cache/torch/hub/checkpoints/resnet50-11ad3fa6.pth\n100%|██████████| 97.8M/97.8M [00:00<00:00, 220MB/s]\n",
          "output_type": "stream"
        },
        {
          "name": "stdout",
          "text": "Epoch 1/10 | Training Loss: 1.2331 | Training Accuracy: 65.45%\nEpoch 1/10 | Validation Accuracy: 74.75%\nEpoch 2/10 | Training Loss: 0.7629 | Training Accuracy: 77.12%\nEpoch 2/10 | Validation Accuracy: 78.50%\nEpoch 3/10 | Training Loss: 0.6441 | Training Accuracy: 80.45%\nEpoch 3/10 | Validation Accuracy: 78.85%\nEpoch 4/10 | Training Loss: 0.5738 | Training Accuracy: 82.02%\nEpoch 4/10 | Validation Accuracy: 80.40%\nEpoch 5/10 | Training Loss: 0.5385 | Training Accuracy: 82.41%\nEpoch 5/10 | Validation Accuracy: 79.60%\nEpoch 6/10 | Training Loss: 0.4933 | Training Accuracy: 84.37%\nEpoch 6/10 | Validation Accuracy: 80.55%\nEpoch 7/10 | Training Loss: 0.4627 | Training Accuracy: 85.37%\nEpoch 7/10 | Validation Accuracy: 80.85%\nEpoch 8/10 | Training Loss: 0.4398 | Training Accuracy: 85.99%\nEpoch 8/10 | Validation Accuracy: 80.75%\nEpoch 9/10 | Training Loss: 0.4204 | Training Accuracy: 86.89%\nEpoch 9/10 | Validation Accuracy: 80.65%\nEarly stopping at epoch 9\nTest Accuracy: 81.20%\nModel training Completed.\n",
          "output_type": "stream"
        },
        {
          "output_type": "display_data",
          "data": {
            "text/plain": "<IPython.core.display.HTML object>",
            "text/html": ""
          },
          "metadata": {}
        },
        {
          "output_type": "display_data",
          "data": {
            "text/plain": "<IPython.core.display.HTML object>",
            "text/html": "<br>    <style><br>        .wandb-row {<br>            display: flex;<br>            flex-direction: row;<br>            flex-wrap: wrap;<br>            justify-content: flex-start;<br>            width: 100%;<br>        }<br>        .wandb-col {<br>            display: flex;<br>            flex-direction: column;<br>            flex-basis: 100%;<br>            flex: 1;<br>            padding: 10px;<br>        }<br>    </style><br><div class=\"wandb-row\"><div class=\"wandb-col\"><h3>Run history:</h3><br/><table class=\"wandb\"><tr><td>Train accuracy</td><td>▁▅▆▆▇▇███</td></tr><tr><td>Train loss</td><td>█▄▃▂▂▂▁▁▁</td></tr><tr><td>epoch</td><td>▁▂▃▄▅▅▆▇█</td></tr><tr><td>test_accuracy</td><td>▁</td></tr><tr><td>val_accuracy</td><td>▁▅▆▇▇████</td></tr></table><br/></div><div class=\"wandb-col\"><h3>Run summary:</h3><br/><table class=\"wandb\"><tr><td>Train accuracy</td><td>86.88586</td></tr><tr><td>Train loss</td><td>0.4204</td></tr><tr><td>epoch</td><td>8</td></tr><tr><td>test_accuracy</td><td>81.2</td></tr><tr><td>val_accuracy</td><td>80.65</td></tr></table><br/></div></div>"
          },
          "metadata": {}
        },
        {
          "output_type": "display_data",
          "data": {
            "text/plain": "<IPython.core.display.HTML object>",
            "text/html": " View run <strong style=\"color:#cdcd00\">ep10_strategy-freeze_all_except_last_model-resnet</strong> at: <a href='https://wandb.ai/3628-pavitrakhare-indian-institute-of-technology-madras/DL_ASS2_Prac/runs/goa87lu1' target=\"_blank\">https://wandb.ai/3628-pavitrakhare-indian-institute-of-technology-madras/DL_ASS2_Prac/runs/goa87lu1</a><br> View project at: <a href='https://wandb.ai/3628-pavitrakhare-indian-institute-of-technology-madras/DL_ASS2_Prac' target=\"_blank\">https://wandb.ai/3628-pavitrakhare-indian-institute-of-technology-madras/DL_ASS2_Prac</a><br>Synced 5 W&B file(s), 0 media file(s), 0 artifact file(s) and 0 other file(s)"
          },
          "metadata": {}
        },
        {
          "output_type": "display_data",
          "data": {
            "text/plain": "<IPython.core.display.HTML object>",
            "text/html": "Find logs at: <code>./wandb/run-20250417_125916-goa87lu1/logs</code>"
          },
          "metadata": {}
        },
        {
          "name": "stderr",
          "text": "\u001b[34m\u001b[1mwandb\u001b[0m: Agent Starting Run: 4duvpe09 with config:\n\u001b[34m\u001b[1mwandb\u001b[0m: \tepoch: 10\n\u001b[34m\u001b[1mwandb\u001b[0m: \tmodel: resnet\n\u001b[34m\u001b[1mwandb\u001b[0m: \tstrategy: freeze_fc_only\n",
          "output_type": "stream"
        },
        {
          "output_type": "display_data",
          "data": {
            "text/plain": "<IPython.core.display.HTML object>",
            "text/html": "Tracking run with wandb version 0.19.6"
          },
          "metadata": {}
        },
        {
          "output_type": "display_data",
          "data": {
            "text/plain": "<IPython.core.display.HTML object>",
            "text/html": "Run data is saved locally in <code>/kaggle/working/wandb/run-20250417_130756-4duvpe09</code>"
          },
          "metadata": {}
        },
        {
          "output_type": "display_data",
          "data": {
            "text/plain": "<IPython.core.display.HTML object>",
            "text/html": "Syncing run <strong><a href='https://wandb.ai/3628-pavitrakhare-indian-institute-of-technology-madras/DL_ASS2_Prac/runs/4duvpe09' target=\"_blank\">curious-sweep-2</a></strong> to <a href='https://wandb.ai/3628-pavitrakhare-indian-institute-of-technology-madras/DL_ASS2_Prac' target=\"_blank\">Weights & Biases</a> (<a href='https://wandb.me/developer-guide' target=\"_blank\">docs</a>)<br>Sweep page: <a href='https://wandb.ai/3628-pavitrakhare-indian-institute-of-technology-madras/DL_ASS2_Prac/sweeps/5lto2ws8' target=\"_blank\">https://wandb.ai/3628-pavitrakhare-indian-institute-of-technology-madras/DL_ASS2_Prac/sweeps/5lto2ws8</a>"
          },
          "metadata": {}
        },
        {
          "output_type": "display_data",
          "data": {
            "text/plain": "<IPython.core.display.HTML object>",
            "text/html": " View project at <a href='https://wandb.ai/3628-pavitrakhare-indian-institute-of-technology-madras/DL_ASS2_Prac' target=\"_blank\">https://wandb.ai/3628-pavitrakhare-indian-institute-of-technology-madras/DL_ASS2_Prac</a>"
          },
          "metadata": {}
        },
        {
          "output_type": "display_data",
          "data": {
            "text/plain": "<IPython.core.display.HTML object>",
            "text/html": " View sweep at <a href='https://wandb.ai/3628-pavitrakhare-indian-institute-of-technology-madras/DL_ASS2_Prac/sweeps/5lto2ws8' target=\"_blank\">https://wandb.ai/3628-pavitrakhare-indian-institute-of-technology-madras/DL_ASS2_Prac/sweeps/5lto2ws8</a>"
          },
          "metadata": {}
        },
        {
          "output_type": "display_data",
          "data": {
            "text/plain": "<IPython.core.display.HTML object>",
            "text/html": " View run at <a href='https://wandb.ai/3628-pavitrakhare-indian-institute-of-technology-madras/DL_ASS2_Prac/runs/4duvpe09' target=\"_blank\">https://wandb.ai/3628-pavitrakhare-indian-institute-of-technology-madras/DL_ASS2_Prac/runs/4duvpe09</a>"
          },
          "metadata": {}
        },
        {
          "name": "stdout",
          "text": "Epoch 1/10 | Training Loss: 1.4916 | Training Accuracy: 49.69%\nEpoch 1/10 | Validation Accuracy: 48.10%\nEpoch 2/10 | Training Loss: 1.2020 | Training Accuracy: 58.99%\nEpoch 2/10 | Validation Accuracy: 53.75%\nEpoch 3/10 | Training Loss: 0.9671 | Training Accuracy: 67.65%\nEpoch 3/10 | Validation Accuracy: 58.00%\nEpoch 4/10 | Training Loss: 0.7323 | Training Accuracy: 75.75%\nEpoch 4/10 | Validation Accuracy: 53.95%\nEpoch 5/10 | Training Loss: 0.5838 | Training Accuracy: 80.57%\nEpoch 5/10 | Validation Accuracy: 56.45%\nEarly stopping at epoch 5\nTest Accuracy: 56.75%\nModel training Completed.\n",
          "output_type": "stream"
        },
        {
          "output_type": "display_data",
          "data": {
            "text/plain": "<IPython.core.display.HTML object>",
            "text/html": ""
          },
          "metadata": {}
        },
        {
          "output_type": "display_data",
          "data": {
            "text/plain": "<IPython.core.display.HTML object>",
            "text/html": "<br>    <style><br>        .wandb-row {<br>            display: flex;<br>            flex-direction: row;<br>            flex-wrap: wrap;<br>            justify-content: flex-start;<br>            width: 100%;<br>        }<br>        .wandb-col {<br>            display: flex;<br>            flex-direction: column;<br>            flex-basis: 100%;<br>            flex: 1;<br>            padding: 10px;<br>        }<br>    </style><br><div class=\"wandb-row\"><div class=\"wandb-col\"><h3>Run history:</h3><br/><table class=\"wandb\"><tr><td>Train accuracy</td><td>▁▃▅▇█</td></tr><tr><td>Train loss</td><td>█▆▄▂▁</td></tr><tr><td>epoch</td><td>▁▃▅▆█</td></tr><tr><td>test_accuracy</td><td>▁</td></tr><tr><td>val_accuracy</td><td>▁▅█▅▇</td></tr></table><br/></div><div class=\"wandb-col\"><h3>Run summary:</h3><br/><table class=\"wandb\"><tr><td>Train accuracy</td><td>80.57257</td></tr><tr><td>Train loss</td><td>0.58377</td></tr><tr><td>epoch</td><td>4</td></tr><tr><td>test_accuracy</td><td>56.75</td></tr><tr><td>val_accuracy</td><td>56.45</td></tr></table><br/></div></div>"
          },
          "metadata": {}
        },
        {
          "output_type": "display_data",
          "data": {
            "text/plain": "<IPython.core.display.HTML object>",
            "text/html": " View run <strong style=\"color:#cdcd00\">ep10_strategy-freeze_fc_only_model-resnet</strong> at: <a href='https://wandb.ai/3628-pavitrakhare-indian-institute-of-technology-madras/DL_ASS2_Prac/runs/4duvpe09' target=\"_blank\">https://wandb.ai/3628-pavitrakhare-indian-institute-of-technology-madras/DL_ASS2_Prac/runs/4duvpe09</a><br> View project at: <a href='https://wandb.ai/3628-pavitrakhare-indian-institute-of-technology-madras/DL_ASS2_Prac' target=\"_blank\">https://wandb.ai/3628-pavitrakhare-indian-institute-of-technology-madras/DL_ASS2_Prac</a><br>Synced 5 W&B file(s), 0 media file(s), 0 artifact file(s) and 0 other file(s)"
          },
          "metadata": {}
        },
        {
          "output_type": "display_data",
          "data": {
            "text/plain": "<IPython.core.display.HTML object>",
            "text/html": "Find logs at: <code>./wandb/run-20250417_130756-4duvpe09/logs</code>"
          },
          "metadata": {}
        },
        {
          "name": "stderr",
          "text": "\u001b[34m\u001b[1mwandb\u001b[0m: Agent Starting Run: wx7637pk with config:\n\u001b[34m\u001b[1mwandb\u001b[0m: \tepoch: 10\n\u001b[34m\u001b[1mwandb\u001b[0m: \tmodel: resnet\n\u001b[34m\u001b[1mwandb\u001b[0m: \tstrategy: freeze_80_percent\n",
          "output_type": "stream"
        },
        {
          "output_type": "display_data",
          "data": {
            "text/plain": "<IPython.core.display.HTML object>",
            "text/html": "Tracking run with wandb version 0.19.6"
          },
          "metadata": {}
        },
        {
          "output_type": "display_data",
          "data": {
            "text/plain": "<IPython.core.display.HTML object>",
            "text/html": "Run data is saved locally in <code>/kaggle/working/wandb/run-20250417_131315-wx7637pk</code>"
          },
          "metadata": {}
        },
        {
          "output_type": "display_data",
          "data": {
            "text/plain": "<IPython.core.display.HTML object>",
            "text/html": "Syncing run <strong><a href='https://wandb.ai/3628-pavitrakhare-indian-institute-of-technology-madras/DL_ASS2_Prac/runs/wx7637pk' target=\"_blank\">silvery-sweep-3</a></strong> to <a href='https://wandb.ai/3628-pavitrakhare-indian-institute-of-technology-madras/DL_ASS2_Prac' target=\"_blank\">Weights & Biases</a> (<a href='https://wandb.me/developer-guide' target=\"_blank\">docs</a>)<br>Sweep page: <a href='https://wandb.ai/3628-pavitrakhare-indian-institute-of-technology-madras/DL_ASS2_Prac/sweeps/5lto2ws8' target=\"_blank\">https://wandb.ai/3628-pavitrakhare-indian-institute-of-technology-madras/DL_ASS2_Prac/sweeps/5lto2ws8</a>"
          },
          "metadata": {}
        },
        {
          "output_type": "display_data",
          "data": {
            "text/plain": "<IPython.core.display.HTML object>",
            "text/html": " View project at <a href='https://wandb.ai/3628-pavitrakhare-indian-institute-of-technology-madras/DL_ASS2_Prac' target=\"_blank\">https://wandb.ai/3628-pavitrakhare-indian-institute-of-technology-madras/DL_ASS2_Prac</a>"
          },
          "metadata": {}
        },
        {
          "output_type": "display_data",
          "data": {
            "text/plain": "<IPython.core.display.HTML object>",
            "text/html": " View sweep at <a href='https://wandb.ai/3628-pavitrakhare-indian-institute-of-technology-madras/DL_ASS2_Prac/sweeps/5lto2ws8' target=\"_blank\">https://wandb.ai/3628-pavitrakhare-indian-institute-of-technology-madras/DL_ASS2_Prac/sweeps/5lto2ws8</a>"
          },
          "metadata": {}
        },
        {
          "output_type": "display_data",
          "data": {
            "text/plain": "<IPython.core.display.HTML object>",
            "text/html": " View run at <a href='https://wandb.ai/3628-pavitrakhare-indian-institute-of-technology-madras/DL_ASS2_Prac/runs/wx7637pk' target=\"_blank\">https://wandb.ai/3628-pavitrakhare-indian-institute-of-technology-madras/DL_ASS2_Prac/runs/wx7637pk</a>"
          },
          "metadata": {}
        },
        {
          "name": "stdout",
          "text": "Epoch 1/10 | Training Loss: 1.2355 | Training Accuracy: 64.16%\nEpoch 1/10 | Validation Accuracy: 75.45%\nEpoch 2/10 | Training Loss: 0.7560 | Training Accuracy: 77.92%\nEpoch 2/10 | Validation Accuracy: 79.35%\nEpoch 3/10 | Training Loss: 0.6368 | Training Accuracy: 80.45%\nEpoch 3/10 | Validation Accuracy: 80.00%\nEpoch 4/10 | Training Loss: 0.5779 | Training Accuracy: 82.26%\nEpoch 4/10 | Validation Accuracy: 80.40%\nEpoch 5/10 | Training Loss: 0.5245 | Training Accuracy: 83.52%\nEpoch 5/10 | Validation Accuracy: 79.40%\nEpoch 6/10 | Training Loss: 0.4935 | Training Accuracy: 84.66%\nEpoch 6/10 | Validation Accuracy: 80.75%\nEpoch 7/10 | Training Loss: 0.4638 | Training Accuracy: 85.34%\nEpoch 7/10 | Validation Accuracy: 80.90%\nEpoch 8/10 | Training Loss: 0.4412 | Training Accuracy: 86.25%\nEpoch 8/10 | Validation Accuracy: 80.20%\nEpoch 9/10 | Training Loss: 0.4213 | Training Accuracy: 87.09%\nEpoch 9/10 | Validation Accuracy: 80.05%\nEarly stopping at epoch 9\nTest Accuracy: 81.35%\nModel training Completed.\n",
          "output_type": "stream"
        },
        {
          "output_type": "display_data",
          "data": {
            "text/plain": "<IPython.core.display.HTML object>",
            "text/html": ""
          },
          "metadata": {}
        },
        {
          "output_type": "display_data",
          "data": {
            "text/plain": "<IPython.core.display.HTML object>",
            "text/html": "<br>    <style><br>        .wandb-row {<br>            display: flex;<br>            flex-direction: row;<br>            flex-wrap: wrap;<br>            justify-content: flex-start;<br>            width: 100%;<br>        }<br>        .wandb-col {<br>            display: flex;<br>            flex-direction: column;<br>            flex-basis: 100%;<br>            flex: 1;<br>            padding: 10px;<br>        }<br>    </style><br><div class=\"wandb-row\"><div class=\"wandb-col\"><h3>Run history:</h3><br/><table class=\"wandb\"><tr><td>Train accuracy</td><td>▁▅▆▇▇▇▇██</td></tr><tr><td>Train loss</td><td>█▄▃▂▂▂▁▁▁</td></tr><tr><td>epoch</td><td>▁▂▃▄▅▅▆▇█</td></tr><tr><td>test_accuracy</td><td>▁</td></tr><tr><td>val_accuracy</td><td>▁▆▇▇▆██▇▇</td></tr></table><br/></div><div class=\"wandb-col\"><h3>Run summary:</h3><br/><table class=\"wandb\"><tr><td>Train accuracy</td><td>87.08589</td></tr><tr><td>Train loss</td><td>0.42128</td></tr><tr><td>epoch</td><td>8</td></tr><tr><td>test_accuracy</td><td>81.35</td></tr><tr><td>val_accuracy</td><td>80.05</td></tr></table><br/></div></div>"
          },
          "metadata": {}
        },
        {
          "output_type": "display_data",
          "data": {
            "text/plain": "<IPython.core.display.HTML object>",
            "text/html": " View run <strong style=\"color:#cdcd00\">ep10_strategy-freeze_80_percent_model-resnet</strong> at: <a href='https://wandb.ai/3628-pavitrakhare-indian-institute-of-technology-madras/DL_ASS2_Prac/runs/wx7637pk' target=\"_blank\">https://wandb.ai/3628-pavitrakhare-indian-institute-of-technology-madras/DL_ASS2_Prac/runs/wx7637pk</a><br> View project at: <a href='https://wandb.ai/3628-pavitrakhare-indian-institute-of-technology-madras/DL_ASS2_Prac' target=\"_blank\">https://wandb.ai/3628-pavitrakhare-indian-institute-of-technology-madras/DL_ASS2_Prac</a><br>Synced 5 W&B file(s), 0 media file(s), 0 artifact file(s) and 0 other file(s)"
          },
          "metadata": {}
        },
        {
          "output_type": "display_data",
          "data": {
            "text/plain": "<IPython.core.display.HTML object>",
            "text/html": "Find logs at: <code>./wandb/run-20250417_131315-wx7637pk/logs</code>"
          },
          "metadata": {}
        },
        {
          "name": "stderr",
          "text": "\u001b[34m\u001b[1mwandb\u001b[0m: Agent Starting Run: dee4k05z with config:\n\u001b[34m\u001b[1mwandb\u001b[0m: \tepoch: 10\n\u001b[34m\u001b[1mwandb\u001b[0m: \tmodel: resnet\n\u001b[34m\u001b[1mwandb\u001b[0m: \tstrategy: train_from_scratch\n",
          "output_type": "stream"
        },
        {
          "output_type": "display_data",
          "data": {
            "text/plain": "<IPython.core.display.HTML object>",
            "text/html": "Tracking run with wandb version 0.19.6"
          },
          "metadata": {}
        },
        {
          "output_type": "display_data",
          "data": {
            "text/plain": "<IPython.core.display.HTML object>",
            "text/html": "Run data is saved locally in <code>/kaggle/working/wandb/run-20250417_132113-dee4k05z</code>"
          },
          "metadata": {}
        },
        {
          "output_type": "display_data",
          "data": {
            "text/plain": "<IPython.core.display.HTML object>",
            "text/html": "Syncing run <strong><a href='https://wandb.ai/3628-pavitrakhare-indian-institute-of-technology-madras/DL_ASS2_Prac/runs/dee4k05z' target=\"_blank\">azure-sweep-4</a></strong> to <a href='https://wandb.ai/3628-pavitrakhare-indian-institute-of-technology-madras/DL_ASS2_Prac' target=\"_blank\">Weights & Biases</a> (<a href='https://wandb.me/developer-guide' target=\"_blank\">docs</a>)<br>Sweep page: <a href='https://wandb.ai/3628-pavitrakhare-indian-institute-of-technology-madras/DL_ASS2_Prac/sweeps/5lto2ws8' target=\"_blank\">https://wandb.ai/3628-pavitrakhare-indian-institute-of-technology-madras/DL_ASS2_Prac/sweeps/5lto2ws8</a>"
          },
          "metadata": {}
        },
        {
          "output_type": "display_data",
          "data": {
            "text/plain": "<IPython.core.display.HTML object>",
            "text/html": " View project at <a href='https://wandb.ai/3628-pavitrakhare-indian-institute-of-technology-madras/DL_ASS2_Prac' target=\"_blank\">https://wandb.ai/3628-pavitrakhare-indian-institute-of-technology-madras/DL_ASS2_Prac</a>"
          },
          "metadata": {}
        },
        {
          "output_type": "display_data",
          "data": {
            "text/plain": "<IPython.core.display.HTML object>",
            "text/html": " View sweep at <a href='https://wandb.ai/3628-pavitrakhare-indian-institute-of-technology-madras/DL_ASS2_Prac/sweeps/5lto2ws8' target=\"_blank\">https://wandb.ai/3628-pavitrakhare-indian-institute-of-technology-madras/DL_ASS2_Prac/sweeps/5lto2ws8</a>"
          },
          "metadata": {}
        },
        {
          "output_type": "display_data",
          "data": {
            "text/plain": "<IPython.core.display.HTML object>",
            "text/html": " View run at <a href='https://wandb.ai/3628-pavitrakhare-indian-institute-of-technology-madras/DL_ASS2_Prac/runs/dee4k05z' target=\"_blank\">https://wandb.ai/3628-pavitrakhare-indian-institute-of-technology-madras/DL_ASS2_Prac/runs/dee4k05z</a>"
          },
          "metadata": {}
        },
        {
          "name": "stdout",
          "text": "Epoch 1/10 | Training Loss: 2.3077 | Training Accuracy: 17.54%\nEpoch 1/10 | Validation Accuracy: 19.35%\nEpoch 2/10 | Training Loss: 2.2162 | Training Accuracy: 19.74%\nEpoch 2/10 | Validation Accuracy: 21.40%\nEpoch 3/10 | Training Loss: 2.1737 | Training Accuracy: 20.40%\nEpoch 3/10 | Validation Accuracy: 20.80%\nEpoch 4/10 | Training Loss: 2.1385 | Training Accuracy: 21.77%\nEpoch 4/10 | Validation Accuracy: 18.45%\nEarly stopping at epoch 4\nTest Accuracy: 19.45%\nModel training Completed.\n",
          "output_type": "stream"
        },
        {
          "output_type": "display_data",
          "data": {
            "text/plain": "<IPython.core.display.HTML object>",
            "text/html": ""
          },
          "metadata": {}
        },
        {
          "output_type": "display_data",
          "data": {
            "text/plain": "<IPython.core.display.HTML object>",
            "text/html": "<br>    <style><br>        .wandb-row {<br>            display: flex;<br>            flex-direction: row;<br>            flex-wrap: wrap;<br>            justify-content: flex-start;<br>            width: 100%;<br>        }<br>        .wandb-col {<br>            display: flex;<br>            flex-direction: column;<br>            flex-basis: 100%;<br>            flex: 1;<br>            padding: 10px;<br>        }<br>    </style><br><div class=\"wandb-row\"><div class=\"wandb-col\"><h3>Run history:</h3><br/><table class=\"wandb\"><tr><td>Train accuracy</td><td>▁▅▆█</td></tr><tr><td>Train loss</td><td>█▄▂▁</td></tr><tr><td>epoch</td><td>▁▃▆█</td></tr><tr><td>test_accuracy</td><td>▁</td></tr><tr><td>val_accuracy</td><td>▃█▇▁</td></tr></table><br/></div><div class=\"wandb-col\"><h3>Run summary:</h3><br/><table class=\"wandb\"><tr><td>Train accuracy</td><td>21.76522</td></tr><tr><td>Train loss</td><td>2.13853</td></tr><tr><td>epoch</td><td>3</td></tr><tr><td>test_accuracy</td><td>19.45</td></tr><tr><td>val_accuracy</td><td>18.45</td></tr></table><br/></div></div>"
          },
          "metadata": {}
        },
        {
          "output_type": "display_data",
          "data": {
            "text/plain": "<IPython.core.display.HTML object>",
            "text/html": " View run <strong style=\"color:#cdcd00\">ep10_strategy-train_from_scratch_model-resnet</strong> at: <a href='https://wandb.ai/3628-pavitrakhare-indian-institute-of-technology-madras/DL_ASS2_Prac/runs/dee4k05z' target=\"_blank\">https://wandb.ai/3628-pavitrakhare-indian-institute-of-technology-madras/DL_ASS2_Prac/runs/dee4k05z</a><br> View project at: <a href='https://wandb.ai/3628-pavitrakhare-indian-institute-of-technology-madras/DL_ASS2_Prac' target=\"_blank\">https://wandb.ai/3628-pavitrakhare-indian-institute-of-technology-madras/DL_ASS2_Prac</a><br>Synced 5 W&B file(s), 0 media file(s), 0 artifact file(s) and 0 other file(s)"
          },
          "metadata": {}
        },
        {
          "output_type": "display_data",
          "data": {
            "text/plain": "<IPython.core.display.HTML object>",
            "text/html": "Find logs at: <code>./wandb/run-20250417_132113-dee4k05z/logs</code>"
          },
          "metadata": {}
        }
      ],
      "execution_count": null
    },
    {
      "cell_type": "code",
      "source": [],
      "metadata": {
        "trusted": true,
        "id": "63oqsp_A_yAc"
      },
      "outputs": [],
      "execution_count": null
    }
  ]
}