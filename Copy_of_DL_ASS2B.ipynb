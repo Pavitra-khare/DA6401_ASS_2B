{
  "metadata": {
    "kernelspec": {
      "language": "python",
      "display_name": "Python 3",
      "name": "python3"
    },
    "language_info": {
      "name": "python",
      "version": "3.11.11",
      "mimetype": "text/x-python",
      "codemirror_mode": {
        "name": "ipython",
        "version": 3
      },
      "pygments_lexer": "ipython3",
      "nbconvert_exporter": "python",
      "file_extension": ".py"
    },
    "kaggle": {
      "accelerator": "gpu",
      "dataSources": [
        {
          "sourceId": 11368356,
          "sourceType": "datasetVersion",
          "datasetId": 7116343
        }
      ],
      "dockerImageVersionId": 31011,
      "isInternetEnabled": true,
      "language": "python",
      "sourceType": "notebook",
      "isGpuEnabled": true
    },
    "colab": {
      "provenance": [],
      "include_colab_link": true
    }
  },
  "nbformat_minor": 0,
  "nbformat": 4,
  "cells": [
    {
      "cell_type": "markdown",
      "metadata": {
        "id": "view-in-github",
        "colab_type": "text"
      },
      "source": [
        "<a href=\"https://colab.research.google.com/github/Pavitra-khare/DA6401_ASS_2B/blob/main/Copy_of_DL_ASS2B.ipynb\" target=\"_parent\"><img src=\"https://colab.research.google.com/assets/colab-badge.svg\" alt=\"Open In Colab\"/></a>"
      ]
    },
    {
      "cell_type": "code",
      "source": [
        "!pip install wandb"
      ],
      "metadata": {
        "trusted": true,
        "execution": {
          "iopub.status.busy": "2025-04-13T19:42:08.822119Z",
          "iopub.execute_input": "2025-04-13T19:42:08.822343Z",
          "iopub.status.idle": "2025-04-13T19:42:12.729416Z",
          "shell.execute_reply.started": "2025-04-13T19:42:08.822317Z",
          "shell.execute_reply": "2025-04-13T19:42:12.728726Z"
        },
        "id": "rHqEF6OPsVUh",
        "outputId": "364151fb-265c-4254-b0f5-f9727ae83cdc"
      },
      "outputs": [
        {
          "name": "stdout",
          "text": "Requirement already satisfied: wandb in /usr/local/lib/python3.11/dist-packages (0.19.6)\nRequirement already satisfied: click!=8.0.0,>=7.1 in /usr/local/lib/python3.11/dist-packages (from wandb) (8.1.8)\nRequirement already satisfied: docker-pycreds>=0.4.0 in /usr/local/lib/python3.11/dist-packages (from wandb) (0.4.0)\nRequirement already satisfied: gitpython!=3.1.29,>=1.0.0 in /usr/local/lib/python3.11/dist-packages (from wandb) (3.1.44)\nRequirement already satisfied: platformdirs in /usr/local/lib/python3.11/dist-packages (from wandb) (4.3.7)\nRequirement already satisfied: protobuf!=4.21.0,!=5.28.0,<6,>=3.19.0 in /usr/local/lib/python3.11/dist-packages (from wandb) (3.20.3)\nRequirement already satisfied: psutil>=5.0.0 in /usr/local/lib/python3.11/dist-packages (from wandb) (7.0.0)\nRequirement already satisfied: pydantic<3,>=2.6 in /usr/local/lib/python3.11/dist-packages (from wandb) (2.11.3)\nRequirement already satisfied: pyyaml in /usr/local/lib/python3.11/dist-packages (from wandb) (6.0.2)\nRequirement already satisfied: requests<3,>=2.0.0 in /usr/local/lib/python3.11/dist-packages (from wandb) (2.32.3)\nRequirement already satisfied: sentry-sdk>=2.0.0 in /usr/local/lib/python3.11/dist-packages (from wandb) (2.21.0)\nRequirement already satisfied: setproctitle in /usr/local/lib/python3.11/dist-packages (from wandb) (1.3.4)\nRequirement already satisfied: setuptools in /usr/local/lib/python3.11/dist-packages (from wandb) (75.1.0)\nRequirement already satisfied: typing-extensions<5,>=4.4 in /usr/local/lib/python3.11/dist-packages (from wandb) (4.13.1)\nRequirement already satisfied: six>=1.4.0 in /usr/local/lib/python3.11/dist-packages (from docker-pycreds>=0.4.0->wandb) (1.17.0)\nRequirement already satisfied: gitdb<5,>=4.0.1 in /usr/local/lib/python3.11/dist-packages (from gitpython!=3.1.29,>=1.0.0->wandb) (4.0.12)\nRequirement already satisfied: annotated-types>=0.6.0 in /usr/local/lib/python3.11/dist-packages (from pydantic<3,>=2.6->wandb) (0.7.0)\nRequirement already satisfied: pydantic-core==2.33.1 in /usr/local/lib/python3.11/dist-packages (from pydantic<3,>=2.6->wandb) (2.33.1)\nRequirement already satisfied: typing-inspection>=0.4.0 in /usr/local/lib/python3.11/dist-packages (from pydantic<3,>=2.6->wandb) (0.4.0)\nRequirement already satisfied: charset-normalizer<4,>=2 in /usr/local/lib/python3.11/dist-packages (from requests<3,>=2.0.0->wandb) (3.4.1)\nRequirement already satisfied: idna<4,>=2.5 in /usr/local/lib/python3.11/dist-packages (from requests<3,>=2.0.0->wandb) (3.10)\nRequirement already satisfied: urllib3<3,>=1.21.1 in /usr/local/lib/python3.11/dist-packages (from requests<3,>=2.0.0->wandb) (2.3.0)\nRequirement already satisfied: certifi>=2017.4.17 in /usr/local/lib/python3.11/dist-packages (from requests<3,>=2.0.0->wandb) (2025.1.31)\nRequirement already satisfied: smmap<6,>=3.0.1 in /usr/local/lib/python3.11/dist-packages (from gitdb<5,>=4.0.1->gitpython!=3.1.29,>=1.0.0->wandb) (5.0.2)\n",
          "output_type": "stream"
        }
      ],
      "execution_count": null
    },
    {
      "cell_type": "code",
      "source": [
        "import wandb\n",
        "wandb.login(key='c118c1c1779ae69dc5db59f0ff99465d34292bfe')"
      ],
      "metadata": {
        "trusted": true,
        "execution": {
          "iopub.status.busy": "2025-04-14T13:07:27.462487Z",
          "iopub.execute_input": "2025-04-14T13:07:27.46269Z",
          "iopub.status.idle": "2025-04-14T13:07:36.01903Z",
          "shell.execute_reply.started": "2025-04-14T13:07:27.462673Z",
          "shell.execute_reply": "2025-04-14T13:07:36.01831Z"
        },
        "id": "y5vPg0CDsVUi",
        "outputId": "7b255dff-c2a6-4c3c-a974-9996df21d5d2"
      },
      "outputs": [
        {
          "name": "stderr",
          "text": "\u001b[34m\u001b[1mwandb\u001b[0m: \u001b[33mWARNING\u001b[0m If you're specifying your api key in code, ensure this code is not shared publicly.\n\u001b[34m\u001b[1mwandb\u001b[0m: \u001b[33mWARNING\u001b[0m Consider setting the WANDB_API_KEY environment variable, or running `wandb login` from the command line.\n\u001b[34m\u001b[1mwandb\u001b[0m: Appending key for api.wandb.ai to your netrc file: /root/.netrc\n\u001b[34m\u001b[1mwandb\u001b[0m: Currently logged in as: \u001b[33m3628-pavitrakhare\u001b[0m (\u001b[33m3628-pavitrakhare-indian-institute-of-technology-madras\u001b[0m) to \u001b[32mhttps://api.wandb.ai\u001b[0m. Use \u001b[1m`wandb login --relogin`\u001b[0m to force relogin\n",
          "output_type": "stream"
        },
        {
          "execution_count": 1,
          "output_type": "execute_result",
          "data": {
            "text/plain": "True"
          },
          "metadata": {}
        }
      ],
      "execution_count": null
    },
    {
      "cell_type": "code",
      "source": [],
      "metadata": {
        "trusted": true,
        "id": "nFxoa3zgsVUi"
      },
      "outputs": [],
      "execution_count": null
    },
    {
      "cell_type": "code",
      "source": [
        "import torch\n",
        "import torch.nn as nn\n",
        "import torch.optim as optim\n",
        "from torchvision.datasets import ImageFolder\n",
        "from torchvision.transforms import transforms\n",
        "from torch.utils.data import DataLoader, SubsetRandomSampler\n",
        "from sklearn.model_selection import train_test_split\n",
        "from torchvision import models\n",
        "\n",
        "# Check if CUDA is available\n",
        "device = torch.device('cuda' if torch.cuda.is_available() else 'cpu')\n",
        "\n",
        "# Define function for pretrain model with multiple strategies\n",
        "def pretrain_model(model_name, strategy):\n",
        "    \"\"\"\n",
        "    Initialize a pretrained model with different freezing strategies:\n",
        "    - strategy='freeze_all_except_last': Freeze all layers except the output layer\n",
        "    - strategy='freeze_80_percent': Freeze 80% of the layers from the beginning\n",
        "    - strategy='freeze_fc_only': Freeze only the fully connected layers\n",
        "    - strategy='train_from_scratch': Initialize the model but don't use pretrained weights\n",
        "    \"\"\"\n",
        "\n",
        "    if model_name == 'resnet':\n",
        "        if strategy == 'train_from_scratch':\n",
        "            pretrained_model = models.resnet50(pretrained=False)\n",
        "        else:\n",
        "            pretrained_model = models.resnet50(pretrained=True)\n",
        "    elif model_name == 'inception':\n",
        "        if strategy == 'train_from_scratch':\n",
        "            pretrained_model = models.inception_v3(pretrained=False)\n",
        "        else:\n",
        "            pretrained_model = models.inception_v3(pretrained=True)\n",
        "\n",
        "    # Get number of features in the final fully connected layer\n",
        "    nodes_fc = pretrained_model.fc.in_features\n",
        "\n",
        "    # Replace the final layer to match our number of classes (10)\n",
        "    pretrained_model.fc = nn.Linear(nodes_fc, 10)\n",
        "\n",
        "    # Apply different freezing strategies\n",
        "    if strategy == 'freeze_all_except_last':\n",
        "        # Freeze all layers except the final fully connected layer\n",
        "        for name, parameter in pretrained_model.named_parameters():\n",
        "            if not name.startswith('fc'):\n",
        "                parameter.requires_grad = False\n",
        "\n",
        "    elif strategy == 'freeze_80_percent':\n",
        "        # Freeze 80% of the layers from the beginning\n",
        "        total_layers = sum(1 for _ in pretrained_model.children())\n",
        "        num_freeze = int(total_layers * 0.8)\n",
        "\n",
        "        count = 0\n",
        "        for name, child in pretrained_model.named_children():\n",
        "            if count < num_freeze:\n",
        "                for param in child.parameters():\n",
        "                    param.requires_grad = False\n",
        "            count += 1\n",
        "\n",
        "    elif strategy == 'freeze_fc_only':\n",
        "        # Freeze only the fully connected layers (reverse of typical strategy)\n",
        "        # In ResNet, this means freezing the fc layer but training all conv layers\n",
        "        for name, parameter in pretrained_model.named_parameters():\n",
        "            if name.startswith('fc'):\n",
        "                parameter.requires_grad = False\n",
        "\n",
        "    elif strategy == 'train_from_scratch':\n",
        "        # All parameters are already trainable by default\n",
        "        pass\n",
        "\n",
        "    return pretrained_model"
      ],
      "metadata": {
        "_uuid": "8f2839f25d086af736a60e9eeb907d3b93b6e0e5",
        "_cell_guid": "b1076dfc-b9ad-4769-8c92-a6c4dae69d19",
        "trusted": true,
        "execution": {
          "iopub.status.busy": "2025-04-14T13:29:33.293889Z",
          "iopub.execute_input": "2025-04-14T13:29:33.294215Z",
          "iopub.status.idle": "2025-04-14T13:29:33.30287Z",
          "shell.execute_reply.started": "2025-04-14T13:29:33.294187Z",
          "shell.execute_reply": "2025-04-14T13:29:33.302177Z"
        },
        "id": "XXQLu8fxsVUi"
      },
      "outputs": [],
      "execution_count": null
    },
    {
      "cell_type": "code",
      "source": [
        "\n",
        "data_dir = '/kaggle/input/my-dataset/inaturalist_12K/train'\n",
        "\n",
        "def data_load(data_dir,data_augumentation):\n",
        "    # Define data transformations\n",
        "    if data_augumentation == 'Yes':\n",
        "        transform = transforms.Compose([\n",
        "            transforms.RandomResizedCrop(224),  # Randomly crop and resize to 224x224\n",
        "            transforms.RandomHorizontalFlip(),  # Randomly flip the image horizontally\n",
        "            transforms.ColorJitter(brightness=0.2, contrast=0.2, saturation=0.2, hue=0.1),  # Randomly adjust brightness, contrast, saturation, and hue\n",
        "            transforms.RandomRotation(20),  # Randomly rotate the image by up to 20 degrees\n",
        "            transforms.ToTensor(),  # Convert images to PyTorch tensors\n",
        "            transforms.Normalize((0.5, 0.5, 0.5), (0.5, 0.5, 0.5))  # Normalize image tensors\n",
        "        ])\n",
        "\n",
        "    else:\n",
        "        transform = transforms.Compose([\n",
        "            transforms.Resize((224, 224)),  # Resize images to 224x224 (compatible with the CNN input size)\n",
        "            transforms.ToTensor(),  # Convert images to PyTorch tensors\n",
        "            transforms.Normalize((0.5, 0.5, 0.5), (0.5, 0.5, 0.5))  # Normalize image tensors\n",
        "        ])\n",
        "\n",
        "    # Load the dataset using ImageFolder and apply transformations\n",
        "    training_data = ImageFolder(root=data_dir, transform=transform)\n",
        "    # Splitting train dataset into training and validation indices\n",
        "    train_index, val_index = train_test_split(list(range(len(training_data))), test_size=0.2, random_state=42)\n",
        "    # Create DataLoader instances for training and validation sets\n",
        "    random_train_sample = SubsetRandomSampler(train_index)\n",
        "    train_data = DataLoader(\n",
        "    training_data,\n",
        "    batch_size=32,\n",
        "    sampler=random_train_sample,\n",
        "    num_workers=4,  # Add workers for parallel loading\n",
        "    pin_memory=True  # Faster data transfer to GPU\n",
        "    )\n",
        "\n",
        "    random_val_sample = SubsetRandomSampler(val_index)\n",
        "    validation_data = DataLoader(\n",
        "    training_data,\n",
        "    batch_size=32,\n",
        "    sampler=random_val_sample,\n",
        "    num_workers=4,  # Add workers for parallel loading\n",
        "    pin_memory=True  # Faster data transfer to GPU\n",
        "    )\n",
        "    return train_data, validation_data"
      ],
      "metadata": {
        "trusted": true,
        "execution": {
          "iopub.status.busy": "2025-04-14T13:29:37.337035Z",
          "iopub.execute_input": "2025-04-14T13:29:37.337715Z",
          "iopub.status.idle": "2025-04-14T13:29:37.343964Z",
          "shell.execute_reply.started": "2025-04-14T13:29:37.33769Z",
          "shell.execute_reply": "2025-04-14T13:29:37.343222Z"
        },
        "id": "RxsTYw6AsVUj"
      },
      "outputs": [],
      "execution_count": null
    },
    {
      "cell_type": "code",
      "source": [
        "def train_on_train_data(model, train_data):\n",
        "    criterion = nn.CrossEntropyLoss()\n",
        "    optimizer = optim.Adam(model.parameters(), lr=0.001)\n",
        "    model.train()  # Set the model to training mode\n",
        "    training_loss = 0.0\n",
        "    correct_train_label = 0\n",
        "    total_train = 0\n",
        "    # Training loop\n",
        "    for inputs, labels in train_data:\n",
        "        inputs, labels = inputs.to(device), labels.to(device)\n",
        "        optimizer.zero_grad()\n",
        "        outputs = model(inputs)\n",
        "        loss = criterion(outputs, labels)\n",
        "        loss.backward()\n",
        "        optimizer.step()\n",
        "        training_loss += loss.item()\n",
        "\n",
        "        # Calculate training accuracy\n",
        "        _, pred = torch.max(outputs, 1)\n",
        "        correct_train_label += (pred == labels).sum().item()\n",
        "        total_train += labels.size(0)\n",
        "\n",
        "    # Calculate training loss and accuracy\n",
        "    avg_loss = training_loss / len(train_data)\n",
        "    train_accuracy = 100 * correct_train_label / total_train\n",
        "    return avg_loss, train_accuracy\n",
        "\n"
      ],
      "metadata": {
        "trusted": true,
        "execution": {
          "iopub.status.busy": "2025-04-14T13:29:39.728193Z",
          "iopub.execute_input": "2025-04-14T13:29:39.7289Z",
          "iopub.status.idle": "2025-04-14T13:29:39.734055Z",
          "shell.execute_reply.started": "2025-04-14T13:29:39.728878Z",
          "shell.execute_reply": "2025-04-14T13:29:39.733323Z"
        },
        "id": "UVAJ9m8HsVUj"
      },
      "outputs": [],
      "execution_count": null
    },
    {
      "cell_type": "code",
      "source": [
        "def test_on_valid_data(model, test_data):\n",
        "    model.eval()  # Set the model to evaluation mode\n",
        "    correct_val = 0\n",
        "    total_val = 0\n",
        "    with torch.no_grad():  # Turn off gradient calculation for validation\n",
        "        for inputs_val, labels_val in test_data:\n",
        "            inputs_val, labels_val = inputs_val.to(device), labels_val.to(device)\n",
        "            outputs_val = model(inputs_val)\n",
        "            _, predicted_val = torch.max(outputs_val, 1)\n",
        "            correct_val += (predicted_val == labels_val).sum().item()\n",
        "            total_val += labels_val.size(0)\n",
        "\n",
        "    # Calculate validation accuracy\n",
        "    valid_accuracy = 100 * correct_val / total_val\n",
        "    return valid_accuracy"
      ],
      "metadata": {
        "trusted": true,
        "execution": {
          "iopub.status.busy": "2025-04-14T13:29:41.50655Z",
          "iopub.execute_input": "2025-04-14T13:29:41.506822Z",
          "iopub.status.idle": "2025-04-14T13:29:41.515081Z",
          "shell.execute_reply.started": "2025-04-14T13:29:41.506802Z",
          "shell.execute_reply": "2025-04-14T13:29:41.514063Z"
        },
        "id": "DtsbbcfusVUj"
      },
      "outputs": [],
      "execution_count": null
    },
    {
      "cell_type": "code",
      "source": [
        "# Add a function to load test data\n",
        "def test_data_load(test_dir, data_augumentation='No'):\n",
        "    # Define data transformations (same as in data_load function)\n",
        "    if data_augumentation == 'Yes':\n",
        "        transform = transforms.Compose([\n",
        "            transforms.RandomResizedCrop(224),\n",
        "            transforms.RandomHorizontalFlip(),\n",
        "            transforms.ColorJitter(brightness=0.2, contrast=0.2, saturation=0.2, hue=0.1),\n",
        "            transforms.RandomRotation(20),\n",
        "            transforms.ToTensor(),\n",
        "            transforms.Normalize((0.5, 0.5, 0.5), (0.5, 0.5, 0.5))\n",
        "        ])\n",
        "    else:\n",
        "        transform = transforms.Compose([\n",
        "            transforms.Resize((224, 224)),\n",
        "            transforms.ToTensor(),\n",
        "            transforms.Normalize((0.5, 0.5, 0.5), (0.5, 0.5, 0.5))\n",
        "        ])\n",
        "\n",
        "    # Load the test dataset\n",
        "    test_data = ImageFolder(root=test_dir, transform=transform)\n",
        "    test_loader = DataLoader(\n",
        "        test_data,\n",
        "        batch_size=32,\n",
        "        shuffle=False,\n",
        "        num_workers=4,\n",
        "        pin_memory=True\n",
        "    )\n",
        "    return test_loader"
      ],
      "metadata": {
        "trusted": true,
        "execution": {
          "iopub.status.busy": "2025-04-14T13:29:43.457119Z",
          "iopub.execute_input": "2025-04-14T13:29:43.457642Z",
          "iopub.status.idle": "2025-04-14T13:29:43.463082Z",
          "shell.execute_reply.started": "2025-04-14T13:29:43.457622Z",
          "shell.execute_reply": "2025-04-14T13:29:43.462231Z"
        },
        "id": "0mxW4QUasVUj"
      },
      "outputs": [],
      "execution_count": null
    },
    {
      "cell_type": "code",
      "source": [
        "# Modify the model_train function to evaluate on test data after training\n",
        "def model_train(model, train_data, val_data, test_data, epochs):\n",
        "    criterion = nn.CrossEntropyLoss()\n",
        "    optimizer = optim.Adam(model.parameters(), lr=0.001)\n",
        "\n",
        "    for epoch in range(epochs):\n",
        "        avg_loss, train_accuracy = train_on_train_data(model, train_data)\n",
        "        # Print training loss and accuracy\n",
        "        print(f'Epoch {epoch+1}/{epochs}, Train Loss: {avg_loss:.4f}, Train Accuracy: {train_accuracy:.2f}%')\n",
        "        wandb.log({'Train loss': avg_loss})\n",
        "        wandb.log({'Train accuracy': train_accuracy})\n",
        "\n",
        "        # Validation loop\n",
        "        val_accuracy = test_on_valid_data(model, val_data)\n",
        "        # Print validation accuracy\n",
        "        print(f'Epoch {epoch+1}/{epochs}, Validation Accuracy: {val_accuracy:.2f}%')\n",
        "        wandb.log({'val_accuracy': val_accuracy})\n",
        "        wandb.log({'epoch': epoch})\n",
        "\n",
        "    # After training is complete, evaluate on test data\n",
        "    test_accuracy = test_on_valid_data(model, test_data)\n",
        "    print(f'Test Accuracy: {test_accuracy:.2f}%')\n",
        "    wandb.log({'test_accuracy': test_accuracy})\n",
        "\n",
        "    print('Training complete!')"
      ],
      "metadata": {
        "trusted": true,
        "execution": {
          "iopub.status.busy": "2025-04-14T13:29:45.476161Z",
          "iopub.execute_input": "2025-04-14T13:29:45.47685Z",
          "iopub.status.idle": "2025-04-14T13:29:45.481874Z",
          "shell.execute_reply.started": "2025-04-14T13:29:45.476807Z",
          "shell.execute_reply": "2025-04-14T13:29:45.481248Z"
        },
        "id": "zbcSPb8osVUk"
      },
      "outputs": [],
      "execution_count": null
    },
    {
      "cell_type": "code",
      "source": [
        "\n",
        "\n",
        "# Update the sweep configuration to include the strategies\n",
        "sweep_config = {\n",
        "    'method': 'grid',  # Changed to grid to ensure all strategies are tested\n",
        "    'metric': {\n",
        "        'name': 'val_accuracy',\n",
        "        'goal': 'maximize'\n",
        "    },\n",
        "    'parameters': {\n",
        "        'epoch': {\n",
        "            'values': [10]\n",
        "        },\n",
        "        'strategy': {\n",
        "            'values': [\n",
        "                'freeze_all_except_last',  # Strategy 1\n",
        "                'freeze_80_percent',       # Strategy 2\n",
        "                'freeze_fc_only',          # Strategy 3\n",
        "                'train_from_scratch'       # Strategy 4\n",
        "            ]\n",
        "        },\n",
        "        'model': {\n",
        "            'values': ['resnet']\n",
        "        }\n",
        "    }\n",
        "}\n",
        "\n",
        "sweep_id = wandb.sweep(sweep_config, project='DL_ASS2_B')\n",
        "\n",
        "\n",
        "\n",
        "# Update the main function to load test data and pass it to model_train\n",
        "def main():\n",
        "    with wandb.init() as run:\n",
        "        # Update run name to include strategy\n",
        "        run_name = f\"ep{wandb.config.epoch}_strategy-{wandb.config.strategy}_model-{wandb.config.model}\"\n",
        "        wandb.run.name = run_name\n",
        "\n",
        "        # Initialize model with the selected strategy\n",
        "        model = pretrain_model(model_name=wandb.config.model, strategy=wandb.config.strategy)\n",
        "        model = model.to(device)\n",
        "\n",
        "        # Load training and validation data\n",
        "        data_dir = '/kaggle/input/my-dataset/inaturalist_12K/train'\n",
        "        train, validation = data_load(data_dir, data_augumentation='No')\n",
        "\n",
        "        # Load test data\n",
        "        test_dir = '/kaggle/input/my-dataset/inaturalist_12K/val'\n",
        "        test_data = test_data_load(test_dir, data_augumentation='No')\n",
        "\n",
        "        # Train model and evaluate on test data\n",
        "        model_train(model, train, validation, test_data, epochs=wandb.config.epoch)\n",
        "\n",
        "wandb.agent(sweep_id, function=main, count=4)  # Run all 4 strategies\n",
        "wandb.finish()"
      ],
      "metadata": {
        "trusted": true,
        "execution": {
          "iopub.status.busy": "2025-04-14T13:34:19.402238Z",
          "iopub.execute_input": "2025-04-14T13:34:19.403Z",
          "iopub.status.idle": "2025-04-14T14:11:15.534355Z",
          "shell.execute_reply.started": "2025-04-14T13:34:19.402975Z",
          "shell.execute_reply": "2025-04-14T14:11:15.533721Z"
        },
        "id": "ro7I4k5KsVUk",
        "outputId": "1b9128e6-c89d-40a3-e460-7c3b682a43e5"
      },
      "outputs": [
        {
          "name": "stdout",
          "text": "Create sweep with ID: yg114ke1\nSweep URL: https://wandb.ai/3628-pavitrakhare-indian-institute-of-technology-madras/DL_ASS2_B/sweeps/yg114ke1\n",
          "output_type": "stream"
        },
        {
          "name": "stderr",
          "text": "\u001b[34m\u001b[1mwandb\u001b[0m: Agent Starting Run: pntzdxvl with config:\n\u001b[34m\u001b[1mwandb\u001b[0m: \tepoch: 10\n\u001b[34m\u001b[1mwandb\u001b[0m: \tmodel: resnet\n\u001b[34m\u001b[1mwandb\u001b[0m: \tstrategy: freeze_all_except_last\n",
          "output_type": "stream"
        },
        {
          "output_type": "display_data",
          "data": {
            "text/plain": "<IPython.core.display.HTML object>",
            "text/html": "Tracking run with wandb version 0.19.6"
          },
          "metadata": {}
        },
        {
          "output_type": "display_data",
          "data": {
            "text/plain": "<IPython.core.display.HTML object>",
            "text/html": "Run data is saved locally in <code>/kaggle/working/wandb/run-20250414_133426-pntzdxvl</code>"
          },
          "metadata": {}
        },
        {
          "output_type": "display_data",
          "data": {
            "text/plain": "<IPython.core.display.HTML object>",
            "text/html": "Syncing run <strong><a href='https://wandb.ai/3628-pavitrakhare-indian-institute-of-technology-madras/DL_ASS2_B/runs/pntzdxvl' target=\"_blank\">easy-sweep-1</a></strong> to <a href='https://wandb.ai/3628-pavitrakhare-indian-institute-of-technology-madras/DL_ASS2_B' target=\"_blank\">Weights & Biases</a> (<a href='https://wandb.me/developer-guide' target=\"_blank\">docs</a>)<br>Sweep page: <a href='https://wandb.ai/3628-pavitrakhare-indian-institute-of-technology-madras/DL_ASS2_B/sweeps/yg114ke1' target=\"_blank\">https://wandb.ai/3628-pavitrakhare-indian-institute-of-technology-madras/DL_ASS2_B/sweeps/yg114ke1</a>"
          },
          "metadata": {}
        },
        {
          "output_type": "display_data",
          "data": {
            "text/plain": "<IPython.core.display.HTML object>",
            "text/html": " View project at <a href='https://wandb.ai/3628-pavitrakhare-indian-institute-of-technology-madras/DL_ASS2_B' target=\"_blank\">https://wandb.ai/3628-pavitrakhare-indian-institute-of-technology-madras/DL_ASS2_B</a>"
          },
          "metadata": {}
        },
        {
          "output_type": "display_data",
          "data": {
            "text/plain": "<IPython.core.display.HTML object>",
            "text/html": " View sweep at <a href='https://wandb.ai/3628-pavitrakhare-indian-institute-of-technology-madras/DL_ASS2_B/sweeps/yg114ke1' target=\"_blank\">https://wandb.ai/3628-pavitrakhare-indian-institute-of-technology-madras/DL_ASS2_B/sweeps/yg114ke1</a>"
          },
          "metadata": {}
        },
        {
          "output_type": "display_data",
          "data": {
            "text/plain": "<IPython.core.display.HTML object>",
            "text/html": " View run at <a href='https://wandb.ai/3628-pavitrakhare-indian-institute-of-technology-madras/DL_ASS2_B/runs/pntzdxvl' target=\"_blank\">https://wandb.ai/3628-pavitrakhare-indian-institute-of-technology-madras/DL_ASS2_B/runs/pntzdxvl</a>"
          },
          "metadata": {}
        },
        {
          "name": "stdout",
          "text": "Epoch 1/10, Train Loss: 1.1234, Train Accuracy: 64.22%\nEpoch 1/10, Validation Accuracy: 72.05%\nEpoch 2/10, Train Loss: 0.8553, Train Accuracy: 71.73%\nEpoch 2/10, Validation Accuracy: 72.75%\nEpoch 3/10, Train Loss: 0.7922, Train Accuracy: 73.58%\nEpoch 3/10, Validation Accuracy: 73.35%\nEpoch 4/10, Train Loss: 0.7371, Train Accuracy: 75.41%\nEpoch 4/10, Validation Accuracy: 75.10%\nEpoch 5/10, Train Loss: 0.7495, Train Accuracy: 75.11%\nEpoch 5/10, Validation Accuracy: 73.55%\nEpoch 6/10, Train Loss: 0.7172, Train Accuracy: 75.92%\nEpoch 6/10, Validation Accuracy: 73.90%\nEpoch 7/10, Train Loss: 0.6923, Train Accuracy: 76.81%\nEpoch 7/10, Validation Accuracy: 73.85%\nEpoch 8/10, Train Loss: 0.6931, Train Accuracy: 76.90%\nEpoch 8/10, Validation Accuracy: 73.85%\nEpoch 9/10, Train Loss: 0.6600, Train Accuracy: 78.03%\nEpoch 9/10, Validation Accuracy: 71.90%\nEpoch 10/10, Train Loss: 0.6697, Train Accuracy: 77.63%\nEpoch 10/10, Validation Accuracy: 75.40%\nTest Accuracy: 76.45%\nTraining complete!\n",
          "output_type": "stream"
        },
        {
          "output_type": "display_data",
          "data": {
            "text/plain": "<IPython.core.display.HTML object>",
            "text/html": ""
          },
          "metadata": {}
        },
        {
          "output_type": "display_data",
          "data": {
            "text/plain": "<IPython.core.display.HTML object>",
            "text/html": "<br>    <style><br>        .wandb-row {<br>            display: flex;<br>            flex-direction: row;<br>            flex-wrap: wrap;<br>            justify-content: flex-start;<br>            width: 100%;<br>        }<br>        .wandb-col {<br>            display: flex;<br>            flex-direction: column;<br>            flex-basis: 100%;<br>            flex: 1;<br>            padding: 10px;<br>        }<br>    </style><br><div class=\"wandb-row\"><div class=\"wandb-col\"><h3>Run history:</h3><br/><table class=\"wandb\"><tr><td>Train accuracy</td><td>▁▅▆▇▇▇▇▇██</td></tr><tr><td>Train loss</td><td>█▄▃▂▂▂▁▁▁▁</td></tr><tr><td>epoch</td><td>▁▂▃▃▄▅▆▆▇█</td></tr><tr><td>test_accuracy</td><td>▁</td></tr><tr><td>val_accuracy</td><td>▁▃▄▇▄▅▅▅▁█</td></tr></table><br/></div><div class=\"wandb-col\"><h3>Run summary:</h3><br/><table class=\"wandb\"><tr><td>Train accuracy</td><td>77.6347</td></tr><tr><td>Train loss</td><td>0.66973</td></tr><tr><td>epoch</td><td>9</td></tr><tr><td>test_accuracy</td><td>76.45</td></tr><tr><td>val_accuracy</td><td>75.4</td></tr></table><br/></div></div>"
          },
          "metadata": {}
        },
        {
          "output_type": "display_data",
          "data": {
            "text/plain": "<IPython.core.display.HTML object>",
            "text/html": " View run <strong style=\"color:#cdcd00\">ep10_strategy-freeze_all_except_last_model-resnet</strong> at: <a href='https://wandb.ai/3628-pavitrakhare-indian-institute-of-technology-madras/DL_ASS2_B/runs/pntzdxvl' target=\"_blank\">https://wandb.ai/3628-pavitrakhare-indian-institute-of-technology-madras/DL_ASS2_B/runs/pntzdxvl</a><br> View project at: <a href='https://wandb.ai/3628-pavitrakhare-indian-institute-of-technology-madras/DL_ASS2_B' target=\"_blank\">https://wandb.ai/3628-pavitrakhare-indian-institute-of-technology-madras/DL_ASS2_B</a><br>Synced 5 W&B file(s), 0 media file(s), 0 artifact file(s) and 0 other file(s)"
          },
          "metadata": {}
        },
        {
          "output_type": "display_data",
          "data": {
            "text/plain": "<IPython.core.display.HTML object>",
            "text/html": "Find logs at: <code>./wandb/run-20250414_133426-pntzdxvl/logs</code>"
          },
          "metadata": {}
        },
        {
          "name": "stderr",
          "text": "\u001b[34m\u001b[1mwandb\u001b[0m: Agent Starting Run: fk1qcamn with config:\n\u001b[34m\u001b[1mwandb\u001b[0m: \tepoch: 10\n\u001b[34m\u001b[1mwandb\u001b[0m: \tmodel: resnet\n\u001b[34m\u001b[1mwandb\u001b[0m: \tstrategy: freeze_80_percent\n",
          "output_type": "stream"
        },
        {
          "output_type": "display_data",
          "data": {
            "text/plain": "<IPython.core.display.HTML object>",
            "text/html": "Tracking run with wandb version 0.19.6"
          },
          "metadata": {}
        },
        {
          "output_type": "display_data",
          "data": {
            "text/plain": "<IPython.core.display.HTML object>",
            "text/html": "Run data is saved locally in <code>/kaggle/working/wandb/run-20250414_134312-fk1qcamn</code>"
          },
          "metadata": {}
        },
        {
          "output_type": "display_data",
          "data": {
            "text/plain": "<IPython.core.display.HTML object>",
            "text/html": "Syncing run <strong><a href='https://wandb.ai/3628-pavitrakhare-indian-institute-of-technology-madras/DL_ASS2_B/runs/fk1qcamn' target=\"_blank\">soft-sweep-2</a></strong> to <a href='https://wandb.ai/3628-pavitrakhare-indian-institute-of-technology-madras/DL_ASS2_B' target=\"_blank\">Weights & Biases</a> (<a href='https://wandb.me/developer-guide' target=\"_blank\">docs</a>)<br>Sweep page: <a href='https://wandb.ai/3628-pavitrakhare-indian-institute-of-technology-madras/DL_ASS2_B/sweeps/yg114ke1' target=\"_blank\">https://wandb.ai/3628-pavitrakhare-indian-institute-of-technology-madras/DL_ASS2_B/sweeps/yg114ke1</a>"
          },
          "metadata": {}
        },
        {
          "output_type": "display_data",
          "data": {
            "text/plain": "<IPython.core.display.HTML object>",
            "text/html": " View project at <a href='https://wandb.ai/3628-pavitrakhare-indian-institute-of-technology-madras/DL_ASS2_B' target=\"_blank\">https://wandb.ai/3628-pavitrakhare-indian-institute-of-technology-madras/DL_ASS2_B</a>"
          },
          "metadata": {}
        },
        {
          "output_type": "display_data",
          "data": {
            "text/plain": "<IPython.core.display.HTML object>",
            "text/html": " View sweep at <a href='https://wandb.ai/3628-pavitrakhare-indian-institute-of-technology-madras/DL_ASS2_B/sweeps/yg114ke1' target=\"_blank\">https://wandb.ai/3628-pavitrakhare-indian-institute-of-technology-madras/DL_ASS2_B/sweeps/yg114ke1</a>"
          },
          "metadata": {}
        },
        {
          "output_type": "display_data",
          "data": {
            "text/plain": "<IPython.core.display.HTML object>",
            "text/html": " View run at <a href='https://wandb.ai/3628-pavitrakhare-indian-institute-of-technology-madras/DL_ASS2_B/runs/fk1qcamn' target=\"_blank\">https://wandb.ai/3628-pavitrakhare-indian-institute-of-technology-madras/DL_ASS2_B/runs/fk1qcamn</a>"
          },
          "metadata": {}
        },
        {
          "name": "stdout",
          "text": "Epoch 1/10, Train Loss: 1.1390, Train Accuracy: 63.40%\nEpoch 1/10, Validation Accuracy: 72.30%\nEpoch 2/10, Train Loss: 0.8509, Train Accuracy: 71.82%\nEpoch 2/10, Validation Accuracy: 69.85%\nEpoch 3/10, Train Loss: 0.8000, Train Accuracy: 73.57%\nEpoch 3/10, Validation Accuracy: 72.35%\nEpoch 4/10, Train Loss: 0.7548, Train Accuracy: 74.62%\nEpoch 4/10, Validation Accuracy: 74.25%\nEpoch 5/10, Train Loss: 0.7397, Train Accuracy: 75.60%\nEpoch 5/10, Validation Accuracy: 74.15%\nEpoch 6/10, Train Loss: 0.7120, Train Accuracy: 76.53%\nEpoch 6/10, Validation Accuracy: 74.15%\nEpoch 7/10, Train Loss: 0.7138, Train Accuracy: 76.93%\nEpoch 7/10, Validation Accuracy: 73.80%\nEpoch 8/10, Train Loss: 0.6916, Train Accuracy: 76.97%\nEpoch 8/10, Validation Accuracy: 74.75%\nEpoch 9/10, Train Loss: 0.6608, Train Accuracy: 77.80%\nEpoch 9/10, Validation Accuracy: 74.05%\nEpoch 10/10, Train Loss: 0.6591, Train Accuracy: 78.02%\nEpoch 10/10, Validation Accuracy: 73.75%\nTest Accuracy: 74.25%\nTraining complete!\n",
          "output_type": "stream"
        },
        {
          "output_type": "display_data",
          "data": {
            "text/plain": "<IPython.core.display.HTML object>",
            "text/html": ""
          },
          "metadata": {}
        },
        {
          "output_type": "display_data",
          "data": {
            "text/plain": "<IPython.core.display.HTML object>",
            "text/html": "<br>    <style><br>        .wandb-row {<br>            display: flex;<br>            flex-direction: row;<br>            flex-wrap: wrap;<br>            justify-content: flex-start;<br>            width: 100%;<br>        }<br>        .wandb-col {<br>            display: flex;<br>            flex-direction: column;<br>            flex-basis: 100%;<br>            flex: 1;<br>            padding: 10px;<br>        }<br>    </style><br><div class=\"wandb-row\"><div class=\"wandb-col\"><h3>Run history:</h3><br/><table class=\"wandb\"><tr><td>Train accuracy</td><td>▁▅▆▆▇▇▇▇██</td></tr><tr><td>Train loss</td><td>█▄▃▂▂▂▂▁▁▁</td></tr><tr><td>epoch</td><td>▁▂▃▃▄▅▆▆▇█</td></tr><tr><td>test_accuracy</td><td>▁</td></tr><tr><td>val_accuracy</td><td>▅▁▅▇▇▇▇█▇▇</td></tr></table><br/></div><div class=\"wandb-col\"><h3>Run summary:</h3><br/><table class=\"wandb\"><tr><td>Train accuracy</td><td>78.02225</td></tr><tr><td>Train loss</td><td>0.65908</td></tr><tr><td>epoch</td><td>9</td></tr><tr><td>test_accuracy</td><td>74.25</td></tr><tr><td>val_accuracy</td><td>73.75</td></tr></table><br/></div></div>"
          },
          "metadata": {}
        },
        {
          "output_type": "display_data",
          "data": {
            "text/plain": "<IPython.core.display.HTML object>",
            "text/html": " View run <strong style=\"color:#cdcd00\">ep10_strategy-freeze_80_percent_model-resnet</strong> at: <a href='https://wandb.ai/3628-pavitrakhare-indian-institute-of-technology-madras/DL_ASS2_B/runs/fk1qcamn' target=\"_blank\">https://wandb.ai/3628-pavitrakhare-indian-institute-of-technology-madras/DL_ASS2_B/runs/fk1qcamn</a><br> View project at: <a href='https://wandb.ai/3628-pavitrakhare-indian-institute-of-technology-madras/DL_ASS2_B' target=\"_blank\">https://wandb.ai/3628-pavitrakhare-indian-institute-of-technology-madras/DL_ASS2_B</a><br>Synced 5 W&B file(s), 0 media file(s), 0 artifact file(s) and 0 other file(s)"
          },
          "metadata": {}
        },
        {
          "output_type": "display_data",
          "data": {
            "text/plain": "<IPython.core.display.HTML object>",
            "text/html": "Find logs at: <code>./wandb/run-20250414_134312-fk1qcamn/logs</code>"
          },
          "metadata": {}
        },
        {
          "name": "stderr",
          "text": "\u001b[34m\u001b[1mwandb\u001b[0m: Agent Starting Run: 3tlt7xk0 with config:\n\u001b[34m\u001b[1mwandb\u001b[0m: \tepoch: 10\n\u001b[34m\u001b[1mwandb\u001b[0m: \tmodel: resnet\n\u001b[34m\u001b[1mwandb\u001b[0m: \tstrategy: freeze_fc_only\n",
          "output_type": "stream"
        },
        {
          "output_type": "display_data",
          "data": {
            "text/plain": "<IPython.core.display.HTML object>",
            "text/html": "Tracking run with wandb version 0.19.6"
          },
          "metadata": {}
        },
        {
          "output_type": "display_data",
          "data": {
            "text/plain": "<IPython.core.display.HTML object>",
            "text/html": "Run data is saved locally in <code>/kaggle/working/wandb/run-20250414_135152-3tlt7xk0</code>"
          },
          "metadata": {}
        },
        {
          "output_type": "display_data",
          "data": {
            "text/plain": "<IPython.core.display.HTML object>",
            "text/html": "Syncing run <strong><a href='https://wandb.ai/3628-pavitrakhare-indian-institute-of-technology-madras/DL_ASS2_B/runs/3tlt7xk0' target=\"_blank\">jumping-sweep-3</a></strong> to <a href='https://wandb.ai/3628-pavitrakhare-indian-institute-of-technology-madras/DL_ASS2_B' target=\"_blank\">Weights & Biases</a> (<a href='https://wandb.me/developer-guide' target=\"_blank\">docs</a>)<br>Sweep page: <a href='https://wandb.ai/3628-pavitrakhare-indian-institute-of-technology-madras/DL_ASS2_B/sweeps/yg114ke1' target=\"_blank\">https://wandb.ai/3628-pavitrakhare-indian-institute-of-technology-madras/DL_ASS2_B/sweeps/yg114ke1</a>"
          },
          "metadata": {}
        },
        {
          "output_type": "display_data",
          "data": {
            "text/plain": "<IPython.core.display.HTML object>",
            "text/html": " View project at <a href='https://wandb.ai/3628-pavitrakhare-indian-institute-of-technology-madras/DL_ASS2_B' target=\"_blank\">https://wandb.ai/3628-pavitrakhare-indian-institute-of-technology-madras/DL_ASS2_B</a>"
          },
          "metadata": {}
        },
        {
          "output_type": "display_data",
          "data": {
            "text/plain": "<IPython.core.display.HTML object>",
            "text/html": " View sweep at <a href='https://wandb.ai/3628-pavitrakhare-indian-institute-of-technology-madras/DL_ASS2_B/sweeps/yg114ke1' target=\"_blank\">https://wandb.ai/3628-pavitrakhare-indian-institute-of-technology-madras/DL_ASS2_B/sweeps/yg114ke1</a>"
          },
          "metadata": {}
        },
        {
          "output_type": "display_data",
          "data": {
            "text/plain": "<IPython.core.display.HTML object>",
            "text/html": " View run at <a href='https://wandb.ai/3628-pavitrakhare-indian-institute-of-technology-madras/DL_ASS2_B/runs/3tlt7xk0' target=\"_blank\">https://wandb.ai/3628-pavitrakhare-indian-institute-of-technology-madras/DL_ASS2_B/runs/3tlt7xk0</a>"
          },
          "metadata": {}
        },
        {
          "name": "stdout",
          "text": "Epoch 1/10, Train Loss: 1.9603, Train Accuracy: 30.50%\nEpoch 1/10, Validation Accuracy: 26.35%\nEpoch 2/10, Train Loss: 1.8193, Train Accuracy: 36.03%\nEpoch 2/10, Validation Accuracy: 34.20%\nEpoch 3/10, Train Loss: 1.6344, Train Accuracy: 42.83%\nEpoch 3/10, Validation Accuracy: 37.70%\nEpoch 4/10, Train Loss: 1.4780, Train Accuracy: 48.88%\nEpoch 4/10, Validation Accuracy: 45.00%\nEpoch 5/10, Train Loss: 1.3271, Train Accuracy: 54.26%\nEpoch 5/10, Validation Accuracy: 46.90%\nEpoch 6/10, Train Loss: 1.1286, Train Accuracy: 60.30%\nEpoch 6/10, Validation Accuracy: 45.80%\nEpoch 7/10, Train Loss: 0.9493, Train Accuracy: 66.80%\nEpoch 7/10, Validation Accuracy: 47.75%\nEpoch 8/10, Train Loss: 0.7580, Train Accuracy: 73.93%\nEpoch 8/10, Validation Accuracy: 47.05%\nEpoch 9/10, Train Loss: 0.6134, Train Accuracy: 79.65%\nEpoch 9/10, Validation Accuracy: 50.65%\nEpoch 10/10, Train Loss: 0.4705, Train Accuracy: 84.37%\nEpoch 10/10, Validation Accuracy: 45.80%\nTest Accuracy: 46.85%\nTraining complete!\n",
          "output_type": "stream"
        },
        {
          "output_type": "display_data",
          "data": {
            "text/plain": "<IPython.core.display.HTML object>",
            "text/html": ""
          },
          "metadata": {}
        },
        {
          "output_type": "display_data",
          "data": {
            "text/plain": "<IPython.core.display.HTML object>",
            "text/html": "<br>    <style><br>        .wandb-row {<br>            display: flex;<br>            flex-direction: row;<br>            flex-wrap: wrap;<br>            justify-content: flex-start;<br>            width: 100%;<br>        }<br>        .wandb-col {<br>            display: flex;<br>            flex-direction: column;<br>            flex-basis: 100%;<br>            flex: 1;<br>            padding: 10px;<br>        }<br>    </style><br><div class=\"wandb-row\"><div class=\"wandb-col\"><h3>Run history:</h3><br/><table class=\"wandb\"><tr><td>Train accuracy</td><td>▁▂▃▃▄▅▆▇▇█</td></tr><tr><td>Train loss</td><td>█▇▆▆▅▄▃▂▂▁</td></tr><tr><td>epoch</td><td>▁▂▃▃▄▅▆▆▇█</td></tr><tr><td>test_accuracy</td><td>▁</td></tr><tr><td>val_accuracy</td><td>▁▃▄▆▇▇▇▇█▇</td></tr></table><br/></div><div class=\"wandb-col\"><h3>Run summary:</h3><br/><table class=\"wandb\"><tr><td>Train accuracy</td><td>84.37305</td></tr><tr><td>Train loss</td><td>0.4705</td></tr><tr><td>epoch</td><td>9</td></tr><tr><td>test_accuracy</td><td>46.85</td></tr><tr><td>val_accuracy</td><td>45.8</td></tr></table><br/></div></div>"
          },
          "metadata": {}
        },
        {
          "output_type": "display_data",
          "data": {
            "text/plain": "<IPython.core.display.HTML object>",
            "text/html": " View run <strong style=\"color:#cdcd00\">ep10_strategy-freeze_fc_only_model-resnet</strong> at: <a href='https://wandb.ai/3628-pavitrakhare-indian-institute-of-technology-madras/DL_ASS2_B/runs/3tlt7xk0' target=\"_blank\">https://wandb.ai/3628-pavitrakhare-indian-institute-of-technology-madras/DL_ASS2_B/runs/3tlt7xk0</a><br> View project at: <a href='https://wandb.ai/3628-pavitrakhare-indian-institute-of-technology-madras/DL_ASS2_B' target=\"_blank\">https://wandb.ai/3628-pavitrakhare-indian-institute-of-technology-madras/DL_ASS2_B</a><br>Synced 5 W&B file(s), 0 media file(s), 0 artifact file(s) and 0 other file(s)"
          },
          "metadata": {}
        },
        {
          "output_type": "display_data",
          "data": {
            "text/plain": "<IPython.core.display.HTML object>",
            "text/html": "Find logs at: <code>./wandb/run-20250414_135152-3tlt7xk0/logs</code>"
          },
          "metadata": {}
        },
        {
          "name": "stderr",
          "text": "\u001b[34m\u001b[1mwandb\u001b[0m: Agent Starting Run: g8svasgz with config:\n\u001b[34m\u001b[1mwandb\u001b[0m: \tepoch: 10\n\u001b[34m\u001b[1mwandb\u001b[0m: \tmodel: resnet\n\u001b[34m\u001b[1mwandb\u001b[0m: \tstrategy: train_from_scratch\n",
          "output_type": "stream"
        },
        {
          "output_type": "display_data",
          "data": {
            "text/plain": "<IPython.core.display.HTML object>",
            "text/html": "Tracking run with wandb version 0.19.6"
          },
          "metadata": {}
        },
        {
          "output_type": "display_data",
          "data": {
            "text/plain": "<IPython.core.display.HTML object>",
            "text/html": "Run data is saved locally in <code>/kaggle/working/wandb/run-20250414_140141-g8svasgz</code>"
          },
          "metadata": {}
        },
        {
          "output_type": "display_data",
          "data": {
            "text/plain": "<IPython.core.display.HTML object>",
            "text/html": "Syncing run <strong><a href='https://wandb.ai/3628-pavitrakhare-indian-institute-of-technology-madras/DL_ASS2_B/runs/g8svasgz' target=\"_blank\">resilient-sweep-4</a></strong> to <a href='https://wandb.ai/3628-pavitrakhare-indian-institute-of-technology-madras/DL_ASS2_B' target=\"_blank\">Weights & Biases</a> (<a href='https://wandb.me/developer-guide' target=\"_blank\">docs</a>)<br>Sweep page: <a href='https://wandb.ai/3628-pavitrakhare-indian-institute-of-technology-madras/DL_ASS2_B/sweeps/yg114ke1' target=\"_blank\">https://wandb.ai/3628-pavitrakhare-indian-institute-of-technology-madras/DL_ASS2_B/sweeps/yg114ke1</a>"
          },
          "metadata": {}
        },
        {
          "output_type": "display_data",
          "data": {
            "text/plain": "<IPython.core.display.HTML object>",
            "text/html": " View project at <a href='https://wandb.ai/3628-pavitrakhare-indian-institute-of-technology-madras/DL_ASS2_B' target=\"_blank\">https://wandb.ai/3628-pavitrakhare-indian-institute-of-technology-madras/DL_ASS2_B</a>"
          },
          "metadata": {}
        },
        {
          "output_type": "display_data",
          "data": {
            "text/plain": "<IPython.core.display.HTML object>",
            "text/html": " View sweep at <a href='https://wandb.ai/3628-pavitrakhare-indian-institute-of-technology-madras/DL_ASS2_B/sweeps/yg114ke1' target=\"_blank\">https://wandb.ai/3628-pavitrakhare-indian-institute-of-technology-madras/DL_ASS2_B/sweeps/yg114ke1</a>"
          },
          "metadata": {}
        },
        {
          "output_type": "display_data",
          "data": {
            "text/plain": "<IPython.core.display.HTML object>",
            "text/html": " View run at <a href='https://wandb.ai/3628-pavitrakhare-indian-institute-of-technology-madras/DL_ASS2_B/runs/g8svasgz' target=\"_blank\">https://wandb.ai/3628-pavitrakhare-indian-institute-of-technology-madras/DL_ASS2_B/runs/g8svasgz</a>"
          },
          "metadata": {}
        },
        {
          "name": "stderr",
          "text": "/usr/local/lib/python3.11/dist-packages/torchvision/models/_utils.py:223: UserWarning: Arguments other than a weight enum or `None` for 'weights' are deprecated since 0.13 and may be removed in the future. The current behavior is equivalent to passing `weights=None`.\n  warnings.warn(msg)\n",
          "output_type": "stream"
        },
        {
          "name": "stdout",
          "text": "Epoch 1/10, Train Loss: 2.3064, Train Accuracy: 19.74%\nEpoch 1/10, Validation Accuracy: 20.15%\nEpoch 2/10, Train Loss: 2.2084, Train Accuracy: 19.16%\nEpoch 2/10, Validation Accuracy: 22.20%\nEpoch 3/10, Train Loss: 2.1853, Train Accuracy: 20.55%\nEpoch 3/10, Validation Accuracy: 20.80%\nEpoch 4/10, Train Loss: 2.1428, Train Accuracy: 22.30%\nEpoch 4/10, Validation Accuracy: 22.25%\nEpoch 5/10, Train Loss: 2.1489, Train Accuracy: 22.23%\nEpoch 5/10, Validation Accuracy: 23.30%\nEpoch 6/10, Train Loss: 2.1172, Train Accuracy: 24.14%\nEpoch 6/10, Validation Accuracy: 22.95%\nEpoch 7/10, Train Loss: 2.0786, Train Accuracy: 25.50%\nEpoch 7/10, Validation Accuracy: 23.85%\nEpoch 8/10, Train Loss: 2.0630, Train Accuracy: 25.89%\nEpoch 8/10, Validation Accuracy: 26.15%\nEpoch 9/10, Train Loss: 2.0446, Train Accuracy: 26.42%\nEpoch 9/10, Validation Accuracy: 25.40%\nEpoch 10/10, Train Loss: 2.0132, Train Accuracy: 27.73%\nEpoch 10/10, Validation Accuracy: 25.90%\nTest Accuracy: 26.65%\nTraining complete!\n",
          "output_type": "stream"
        },
        {
          "output_type": "display_data",
          "data": {
            "text/plain": "<IPython.core.display.HTML object>",
            "text/html": ""
          },
          "metadata": {}
        },
        {
          "output_type": "display_data",
          "data": {
            "text/plain": "<IPython.core.display.HTML object>",
            "text/html": "<br>    <style><br>        .wandb-row {<br>            display: flex;<br>            flex-direction: row;<br>            flex-wrap: wrap;<br>            justify-content: flex-start;<br>            width: 100%;<br>        }<br>        .wandb-col {<br>            display: flex;<br>            flex-direction: column;<br>            flex-basis: 100%;<br>            flex: 1;<br>            padding: 10px;<br>        }<br>    </style><br><div class=\"wandb-row\"><div class=\"wandb-col\"><h3>Run history:</h3><br/><table class=\"wandb\"><tr><td>Train accuracy</td><td>▁▁▂▄▄▅▆▆▇█</td></tr><tr><td>Train loss</td><td>█▆▅▄▄▃▃▂▂▁</td></tr><tr><td>epoch</td><td>▁▂▃▃▄▅▆▆▇█</td></tr><tr><td>test_accuracy</td><td>▁</td></tr><tr><td>val_accuracy</td><td>▁▃▂▃▅▄▅█▇█</td></tr></table><br/></div><div class=\"wandb-col\"><h3>Run summary:</h3><br/><table class=\"wandb\"><tr><td>Train accuracy</td><td>27.72847</td></tr><tr><td>Train loss</td><td>2.01322</td></tr><tr><td>epoch</td><td>9</td></tr><tr><td>test_accuracy</td><td>26.65</td></tr><tr><td>val_accuracy</td><td>25.9</td></tr></table><br/></div></div>"
          },
          "metadata": {}
        },
        {
          "output_type": "display_data",
          "data": {
            "text/plain": "<IPython.core.display.HTML object>",
            "text/html": " View run <strong style=\"color:#cdcd00\">ep10_strategy-train_from_scratch_model-resnet</strong> at: <a href='https://wandb.ai/3628-pavitrakhare-indian-institute-of-technology-madras/DL_ASS2_B/runs/g8svasgz' target=\"_blank\">https://wandb.ai/3628-pavitrakhare-indian-institute-of-technology-madras/DL_ASS2_B/runs/g8svasgz</a><br> View project at: <a href='https://wandb.ai/3628-pavitrakhare-indian-institute-of-technology-madras/DL_ASS2_B' target=\"_blank\">https://wandb.ai/3628-pavitrakhare-indian-institute-of-technology-madras/DL_ASS2_B</a><br>Synced 5 W&B file(s), 0 media file(s), 0 artifact file(s) and 0 other file(s)"
          },
          "metadata": {}
        },
        {
          "output_type": "display_data",
          "data": {
            "text/plain": "<IPython.core.display.HTML object>",
            "text/html": "Find logs at: <code>./wandb/run-20250414_140141-g8svasgz/logs</code>"
          },
          "metadata": {}
        }
      ],
      "execution_count": null
    },
    {
      "cell_type": "code",
      "source": [],
      "metadata": {
        "trusted": true,
        "id": "WsJeHUohsVUk"
      },
      "outputs": [],
      "execution_count": null
    }
  ]
}